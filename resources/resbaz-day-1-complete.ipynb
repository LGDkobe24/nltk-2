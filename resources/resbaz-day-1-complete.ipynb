{
 "cells": [
  {
   "cell_type": "markdown",
   "metadata": {},
   "source": [
    "<br>\n",
    "<img style=\"float:left\" src=\"http://ipython.org/_static/IPy_header.png\" />\n",
    "<br>"
   ]
  },
  {
   "cell_type": "markdown",
   "metadata": {},
   "source": [
    "# Session 1: Orientation"
   ]
  },
  {
   "cell_type": "markdown",
   "metadata": {},
   "source": [
    "<br>\n",
    "Welcome to the *IPython Notebook*. Through this interface, you'll be learning a lot of things:\n",
    "\n",
    "* A Programming language: **Python**\n",
    "* A Python library: **NLTK**\n",
    "* Overlapping research areas: **Corpus linguistics**, **Natural language processing**, **Distant reading**\n",
    "* Additional skills: **Regular Expressions**, some **Shell commands**, and **tips on managing your data**\n",
    "\n",
    "You can head [here](https://github.com/resbaz/lessons/blob/master/nltk/README.md) for the fully articulated overview of the course, but we'll almost always stay within IPython. \n",
    "Remember, everything we cover here will remain available to you after ResBaz is over, including these Notebooks. It's all accessible at the [ResBaz GitHub](https://github.com/resbaz/lessons/tree/master/nltk).\n",
    "\n",
    "**Any questions before we begin?**\n",
    "\n",
    "Alright, we're off!"
   ]
  },
  {
   "cell_type": "markdown",
   "metadata": {},
   "source": [
    "## Text as data"
   ]
  },
  {
   "cell_type": "markdown",
   "metadata": {},
   "source": [
    "Programming languages like Python are great for processing data. In order to apply it to *text*, we need to think about our text as data.\n",
    "This means being aware of how text is structured, what extra information might be encoded in it, and how to manage to give the best results. "
   ]
  },
  {
   "cell_type": "markdown",
   "metadata": {},
   "source": [
    "## What is the Natural Language Toolkit?"
   ]
  },
  {
   "cell_type": "markdown",
   "metadata": {},
   "source": [
    "<br>\n",
    "We'll be covering some of the theory behind corpus linguistics later on, but let's start by looking at some of the tasks NLTK can help you with. "
   ]
  },
  {
   "cell_type": "markdown",
   "metadata": {},
   "source": [
    "NLTK is a Python Library for working with written language data. It is free and extensively documented. Many areas we'll be covering are treated in more detail in the NLTK Book, available free online from [here](http://www.nltk.org/book/).\n",
    "\n",
    "> Note: NLTK provides tools for tasks ranging from very simple (counting words in a text) to very complex (writing and training parsers, etc.). Many advanced tasks are beyond the scope of this course, but by the time we're done, you should understand Python and NLTK well enough to perform these tasks on your own!\n",
    "\n",
    "We will start by importing NLTK, setting a path to NLTK resources, and downloading some additional stuff."
   ]
  },
  {
   "cell_type": "code",
   "execution_count": 1,
   "metadata": {
    "collapsed": false
   },
   "outputs": [],
   "source": [
    "import nltk # imports all the nltk basics\n",
    "\n",
    "# for cloud-based ipython only:\n",
    "#user_nltk_dir = \"/home/researcher/nltk_data\" # specify our data directory\n",
    "#if user_nltk_dir not in nltk.data.path: # make sure nltk can access this dir\n",
    "    #nltk.data.path.insert(0, user_nltk_dir)\n",
    "#nltk.download(\"book\", download_dir=user_nltk_dir) # download book materials to data directory"
   ]
  },
  {
   "cell_type": "markdown",
   "metadata": {},
   "source": [
    "Oh, we've got to import some corpora used in the book as well..."
   ]
  },
  {
   "cell_type": "code",
   "execution_count": 2,
   "metadata": {
    "collapsed": false
   },
   "outputs": [
    {
     "name": "stdout",
     "output_type": "stream",
     "text": [
      "*** Introductory Examples for the NLTK Book ***\n",
      "Loading text1, ..., text9 and sent1, ..., sent9\n",
      "Type the name of the text or sentence to view it.\n",
      "Type: 'texts()' or 'sents()' to list the materials.\n",
      "text1: Moby Dick by Herman Melville 1851\n",
      "text2: Sense and Sensibility by Jane Austen 1811\n",
      "text3: The Book of Genesis\n",
      "text4: Inaugural Address Corpus\n",
      "text5: Chat Corpus\n",
      "text6: Monty Python and the Holy Grail\n",
      "text7: Wall Street Journal\n",
      "text8: Personals Corpus\n",
      "text9: The Man Who Was Thursday by G . K . Chesterton 1908\n"
     ]
    }
   ],
   "source": [
    "from nltk.book import *  # asterisk means 'everything'"
   ]
  },
  {
   "cell_type": "markdown",
   "metadata": {},
   "source": [
    "Importing the book has assigned variable names to ten corpora. We can call these names easily: "
   ]
  },
  {
   "cell_type": "code",
   "execution_count": 3,
   "metadata": {
    "collapsed": false
   },
   "outputs": [
    {
     "data": {
      "text/plain": [
       "<Text: Sense and Sensibility by Jane Austen 1811>"
      ]
     },
     "execution_count": 3,
     "metadata": {},
     "output_type": "execute_result"
    }
   ],
   "source": [
    "#text1\n",
    "text2\n",
    "#text3"
   ]
  },
  {
   "cell_type": "markdown",
   "metadata": {},
   "source": [
    "### Exploring vocabulary"
   ]
  },
  {
   "cell_type": "markdown",
   "metadata": {},
   "source": [
    "NLTK makes it really easy to get basic information about the size of a text and the complexity of its vocabulary.\n",
    "\n",
    "*len* gives the number of symbols or 'tokens' in your text. This is the total number of words and items of punctuation.\n",
    "\n",
    "*set* gives you a list of all the tokens in the text, without the duplicates.\n",
    "\n",
    "Hence, **len(set(text3))** will give you the total number unique tokens. Remember this still includes punctuation. \n",
    "\n",
    "sorted() places items in the list into alphabetical order, with punctuation symbols and capitalised words first."
   ]
  },
  {
   "cell_type": "code",
   "execution_count": 4,
   "metadata": {
    "collapsed": false
   },
   "outputs": [
    {
     "data": {
      "text/plain": [
       "44764"
      ]
     },
     "execution_count": 4,
     "metadata": {},
     "output_type": "execute_result"
    }
   ],
   "source": [
    "len(text3)"
   ]
  },
  {
   "cell_type": "code",
   "execution_count": 6,
   "metadata": {
    "collapsed": false
   },
   "outputs": [
    {
     "data": {
      "text/plain": [
       "2789"
      ]
     },
     "execution_count": 6,
     "metadata": {},
     "output_type": "execute_result"
    }
   ],
   "source": [
    "len(set(text3))"
   ]
  },
  {
   "cell_type": "code",
   "execution_count": 9,
   "metadata": {
    "collapsed": false
   },
   "outputs": [
    {
     "data": {
      "text/plain": [
       "[u'!',\n",
       " u\"'\",\n",
       " u'(',\n",
       " u')',\n",
       " u',',\n",
       " u',)',\n",
       " u'.',\n",
       " u'.)',\n",
       " u':',\n",
       " u';',\n",
       " u';)',\n",
       " u'?',\n",
       " u'?)',\n",
       " u'A',\n",
       " u'Abel',\n",
       " u'Abelmizraim',\n",
       " u'Abidah',\n",
       " u'Abide',\n",
       " u'Abimael',\n",
       " u'Abimelech',\n",
       " u'Abr',\n",
       " u'Abrah',\n",
       " u'Abraham',\n",
       " u'Abram',\n",
       " u'Accad',\n",
       " u'Achbor',\n",
       " u'Adah',\n",
       " u'Adam',\n",
       " u'Adbeel',\n",
       " u'Admah',\n",
       " u'Adullamite',\n",
       " u'After',\n",
       " u'Aholibamah',\n",
       " u'Ahuzzath',\n",
       " u'Ajah',\n",
       " u'Akan',\n",
       " u'All',\n",
       " u'Allonbachuth',\n",
       " u'Almighty',\n",
       " u'Almodad',\n",
       " u'Also',\n",
       " u'Alvah',\n",
       " u'Alvan',\n",
       " u'Am',\n",
       " u'Amal',\n",
       " u'Amalek',\n",
       " u'Amalekites',\n",
       " u'Ammon',\n",
       " u'Amorite',\n",
       " u'Amorites']"
      ]
     },
     "execution_count": 9,
     "metadata": {},
     "output_type": "execute_result"
    }
   ],
   "source": [
    "sorted(set(text3)) [:50]"
   ]
  },
  {
   "cell_type": "markdown",
   "metadata": {},
   "source": [
    "We can investigate the *lexical richness* of a text. For example, by dividing the total number of words by the number of unique words, we can see the average number of times each word is used. \n",
    "We can also count the number of times a word is used and calculate what percentage of the text it represents."
   ]
  },
  {
   "cell_type": "code",
   "execution_count": 10,
   "metadata": {
    "collapsed": false
   },
   "outputs": [
    {
     "data": {
      "text/plain": [
       "16"
      ]
     },
     "execution_count": 10,
     "metadata": {},
     "output_type": "execute_result"
    }
   ],
   "source": [
    "len(text3)/len(set(text3))"
   ]
  },
  {
   "cell_type": "code",
   "execution_count": 11,
   "metadata": {
    "collapsed": false
   },
   "outputs": [
    {
     "data": {
      "text/plain": [
       "147"
      ]
     },
     "execution_count": 11,
     "metadata": {},
     "output_type": "execute_result"
    }
   ],
   "source": [
    "text4.count(\"American\")"
   ]
  },
  {
   "cell_type": "markdown",
   "metadata": {},
   "source": [
    "**Challenge!** \n",
    "\n",
    "How would you calculate the percentage of Text 4 that is taken up by the word \"America\"?"
   ]
  },
  {
   "cell_type": "code",
   "execution_count": 12,
   "metadata": {
    "collapsed": false
   },
   "outputs": [
    {
     "data": {
      "text/plain": [
       "0.13174597728754245"
      ]
     },
     "execution_count": 12,
     "metadata": {},
     "output_type": "execute_result"
    }
   ],
   "source": [
    "100.0*text4.count(\"America\")/len(text4) "
   ]
  },
  {
   "cell_type": "markdown",
   "metadata": {},
   "source": [
    "### Exploring text - concordances, similar contexts, dispersion"
   ]
  },
  {
   "cell_type": "markdown",
   "metadata": {},
   "source": [
    "'Concordance' shows you a word in context and is useful if you want to be able to discuss the ways in which a word is used in a text. \n",
    "'Similar' will find words used in similar contexts; remember it is not looking for synonyms, \n",
    "although the results may include synonyms"
   ]
  },
  {
   "cell_type": "code",
   "execution_count": 13,
   "metadata": {
    "collapsed": false
   },
   "outputs": [
    {
     "name": "stdout",
     "output_type": "stream",
     "text": [
      "Displaying 11 of 11 matches:\n",
      "ong the former , one was of a most monstrous size . ... This came towards us , \n",
      "ON OF THE PSALMS . \" Touching that monstrous bulk of the whale or ork we have r\n",
      "ll over with a heathenish array of monstrous clubs and spears . Some were thick\n",
      "d as you gazed , and wondered what monstrous cannibal and savage could ever hav\n",
      "that has survived the flood ; most monstrous and most mountainous ! That Himmal\n",
      "they might scout at Moby Dick as a monstrous fable , or still worse and more de\n",
      "th of Radney .'\" CHAPTER 55 Of the Monstrous Pictures of Whales . I shall ere l\n",
      "ing Scenes . In connexion with the monstrous pictures of whales , I am strongly\n",
      "ere to enter upon those still more monstrous stories of them which are to be fo\n",
      "ght have been rummaged out of this monstrous cabinet there is no telling . But \n",
      "of Whale - Bones ; for Whales of a monstrous size are oftentimes cast up dead u\n"
     ]
    }
   ],
   "source": [
    "text1.concordance(\"monstrous\")"
   ]
  },
  {
   "cell_type": "code",
   "execution_count": 14,
   "metadata": {
    "collapsed": false
   },
   "outputs": [
    {
     "name": "stdout",
     "output_type": "stream",
     "text": [
      "imperial subtly impalpable pitiable curious abundant perilous\n",
      "trustworthy untoward singular lamentable few determined maddens\n",
      "horrible tyrannical lazy mystifying christian exasperate\n"
     ]
    }
   ],
   "source": [
    "text1.similar(\"monstrous\")"
   ]
  },
  {
   "cell_type": "code",
   "execution_count": 15,
   "metadata": {
    "collapsed": false
   },
   "outputs": [
    {
     "name": "stdout",
     "output_type": "stream",
     "text": [
      "very exceedingly so heartily a great good amazingly as sweet\n",
      "remarkably extremely vast\n"
     ]
    }
   ],
   "source": [
    "text2.similar(\"monstrous\")"
   ]
  },
  {
   "cell_type": "code",
   "execution_count": 17,
   "metadata": {
    "collapsed": false
   },
   "outputs": [
    {
     "name": "stdout",
     "output_type": "stream",
     "text": [
      "a_pretty is_pretty a_lucky am_glad be_glad\n"
     ]
    }
   ],
   "source": [
    "text2.common_contexts([\"monstrous\", \"very\"])"
   ]
  },
  {
   "cell_type": "markdown",
   "metadata": {},
   "source": [
    "Python also lets you create graphs to display data.\n",
    "To represent information about a text graphically, import the Python library *numpy*. We can then generate a dispersion plot that shows where given words occur in a text."
   ]
  },
  {
   "cell_type": "code",
   "execution_count": 19,
   "metadata": {
    "collapsed": false
   },
   "outputs": [
    {
     "data": {
      "image/png": "[encoded data removed]",
      "text/plain": [
       "<matplotlib.figure.Figure at 0x10726a550>"
      ]
     },
     "metadata": {},
     "output_type": "display_data"
    }
   ],
   "source": [
    "import numpy\n",
    "# allow visuals to show up in this interface-\n",
    "% matplotlib inline \n",
    "text1.dispersion_plot([\"whale\"])"
   ]
  },
  {
   "cell_type": "markdown",
   "metadata": {},
   "source": [
    "**Challenge!**\n",
    "<br>\n",
    "Create a dispersion plot for the terms \"citizens\", \"democracy\", \"freedom\", \"duties\" and \"America\" in the innaugural address corpus.\n",
    "What do you think it tells you? "
   ]
  },
  {
   "cell_type": "code",
   "execution_count": 20,
   "metadata": {
    "collapsed": false
   },
   "outputs": [
    {
     "data": {
      "image/png": "[encoded data removed]",
      "text/plain": [
       "<matplotlib.figure.Figure at 0x10d44b290>"
      ]
     },
     "metadata": {},
     "output_type": "display_data"
    }
   ],
   "source": [
    "text4.dispersion_plot([\"citizens\", \"democracy\", \"freedom\", \"duties\", \"America\"]) # plot five words longitudinally"
   ]
  },
  {
   "cell_type": "markdown",
   "metadata": {},
   "source": [
    "## How Python works"
   ]
  },
  {
   "cell_type": "markdown",
   "metadata": {},
   "source": [
    "We've seen a bit now of how NLTK can help you to interrogate a text. Let's back up and talk about Python itself and the environment we're using."
   ]
  },
  {
   "cell_type": "code",
   "execution_count": 21,
   "metadata": {
    "collapsed": false
   },
   "outputs": [
    {
     "name": "stdout",
     "output_type": "stream",
     "text": [
      "Welcome to Python and the IPython Notebook.\n"
     ]
    }
   ],
   "source": [
    "# A simple welcome message printer.\n",
    "# Anything after a hash is ignored\n",
    "# Run a cell with shift+enter\n",
    "\n",
    "condition = True\n",
    "if condition is True:\n",
    "    print 'Welcome to Python and the IPython Notebook.'"
   ]
  },
  {
   "cell_type": "markdown",
   "metadata": {},
   "source": [
    "Success! *And so it begins ... *"
   ]
  },
  {
   "cell_type": "markdown",
   "metadata": {},
   "source": [
    "## The IPython Notebook"
   ]
  },
  {
   "cell_type": "markdown",
   "metadata": {},
   "source": [
    "Before we start coding, we should familiarise ourselves with the IPython Notebook interface. Click *Help* --\\> *User interface tour* to begin.\n",
    "<br>\n",
    "Keyboard shortcuts come in very handy. Click *Help* --\\> *Keyboard shortcuts* to get an overview. *The more you code, the less you'll want to use your mouse!*"
   ]
  },
  {
   "cell_type": "markdown",
   "metadata": {},
   "source": [
    "## Python: core concepts"
   ]
  },
  {
   "cell_type": "markdown",
   "metadata": {},
   "source": [
    "If you're new to Python, there are a few core concepts that will help you understand how everything works. Here, we'll cover:\n",
    "\n",
    "* Significant whitespace\n",
    "* Input/output types\n",
    "* Commands and arguments\n",
    "* Defining functions\n",
    "* Importing libraries, functions, etc."
   ]
  },
  {
   "cell_type": "markdown",
   "metadata": {},
   "source": [
    "### Significant Whitespace"
   ]
  },
  {
   "cell_type": "markdown",
   "metadata": {},
   "source": [
    "One thing that makes Python unique is that whitespace at the start of the line (use a tab for consistency!) is meaningful. \n",
    "In many other languages, whitespace at the start of lines is simply a readability convention."
   ]
  },
  {
   "cell_type": "code",
   "execution_count": 5,
   "metadata": {
    "collapsed": false
   },
   "outputs": [
    {
     "name": "stdout",
     "output_type": "stream",
     "text": [
      "Phew, fixed.\n"
     ]
    }
   ],
   "source": [
    "# Fix this whitespace problem!\n",
    "\n",
    "string = 'user'\n",
    "if string == 'user':\n",
    "    print 'Phew, fixed.'"
   ]
  },
  {
   "cell_type": "markdown",
   "metadata": {},
   "source": [
    "So, whitespace tells both Python and human readers where things start and stop. You should be able to get different kinds of output depending on how you indent the code below."
   ]
  },
  {
   "cell_type": "code",
   "execution_count": 24,
   "metadata": {
    "collapsed": false
   },
   "outputs": [
    {
     "name": "stdout",
     "output_type": "stream",
     "text": [
      "Python\n",
      "is\n",
      "\n",
      "very\n",
      "\n",
      "complicated!\n",
      "really\n",
      "\n",
      "complicated!\n",
      "truly\n",
      "\n",
      "interesting!\n",
      "day.\n"
     ]
    }
   ],
   "source": [
    "# \\n means 'newline character'---i.e. print a line break\n",
    "print 'Python\\nis\\n'\n",
    "for i in ['very', 'really', 'truly']:  # repeat three times, quite arbitrarily\n",
    "    print i + '\\n'\n",
    "    if i is 'truly':  # nested conditional\n",
    "        print 'interesting!'\n",
    "    else:\n",
    "        print 'complicated!'\n",
    "print 'day.'  # at present, this occurs after the three repetitions."
   ]
  },
  {
   "cell_type": "markdown",
   "metadata": {},
   "source": [
    "### Input/Output Types"
   ]
  },
  {
   "cell_type": "markdown",
   "metadata": {},
   "source": [
    "* Python understands different *types* of input, including *string*, *unicode string*, *integer*, *item*, *tuple* and *dict*.\n",
    "* Different types of information behave in different ways, and the ways they are represented visually are different as well.\n",
    "* You need to always make sure your input types are correct, or Python won't know what to do with them.\n",
    "* For example, if you're trying to do maths, you'll want to be working with *integers*:"
   ]
  },
  {
   "cell_type": "code",
   "execution_count": 25,
   "metadata": {
    "collapsed": false
   },
   "outputs": [
    {
     "data": {
      "text/plain": [
       "3"
      ]
     },
     "execution_count": 25,
     "metadata": {},
     "output_type": "execute_result"
    }
   ],
   "source": [
    "1 + 2  # integer plus integer"
   ]
  },
  {
   "cell_type": "code",
   "execution_count": 26,
   "metadata": {
    "collapsed": false
   },
   "outputs": [
    {
     "ename": "TypeError",
     "evalue": "unsupported operand type(s) for +: 'int' and 'str'",
     "output_type": "error",
     "traceback": [
      "\u001b[0;31m---------------------------------------------------------------------------\u001b[0m\n\u001b[0;31mTypeError\u001b[0m                                 Traceback (most recent call last)",
      "\u001b[0;32m<ipython-input-26-3ce0a44509ae>\u001b[0m in \u001b[0;36m<module>\u001b[0;34m()\u001b[0m\n\u001b[0;32m----> 1\u001b[0;31m \u001b[0;36m1\u001b[0m \u001b[0;34m+\u001b[0m \u001b[0;34m'2'\u001b[0m  \u001b[0;31m# integer plus string\u001b[0m\u001b[0;34m\u001b[0m\u001b[0m\n\u001b[0m",
      "\u001b[0;31mTypeError\u001b[0m: unsupported operand type(s) for +: 'int' and 'str'"
     ]
    }
   ],
   "source": [
    "1 + '2'  # integer plus string"
   ]
  },
  {
   "cell_type": "markdown",
   "metadata": {},
   "source": [
    "Note the error message. These will help you to understand what went wrong. \n",
    "The first part looks like gobbledygook, but the rest is helpful. Line 3 of error tells us what command\n",
    "was executing when the error happened, which can assist in isolating a problem. The leading digit is the line number.\n",
    "Line 4 actually tells us what the error was - that's what we would have googled if we were looking for a solution."
   ]
  },
  {
   "cell_type": "markdown",
   "metadata": {},
   "source": [
    "You can determine the type of data stored in a variable with *type()*. Below are the most common types. Note how quotation marks, and brackets are used to distinguish between them when writing code."
   ]
  },
  {
   "cell_type": "code",
   "execution_count": 27,
   "metadata": {
    "collapsed": false
   },
   "outputs": [
    {
     "name": "stdout",
     "output_type": "stream",
     "text": [
      "<type 'str'>\n",
      "<type 'unicode'>\n",
      "<type 'int'>\n",
      "<type 'list'>\n",
      "<type 'tuple'>\n",
      "<type 'dict'>\n"
     ]
    }
   ],
   "source": [
    "var = 'A string'\n",
    "print type(var)\n",
    "var = u'A unicode string'\n",
    "print type(var)\n",
    "var = 42\n",
    "print type(var)\n",
    "var = ['item']\n",
    "print type(var)\n",
    "var = ('item', 'another')\n",
    "print type(var)\n",
    "var = {'entry': 7}\n",
    "print type(var)"
   ]
  },
  {
   "cell_type": "markdown",
   "metadata": {},
   "source": [
    "Sometimes you can sometimes easily convert between types."
   ]
  },
  {
   "cell_type": "code",
   "execution_count": 28,
   "metadata": {
    "collapsed": false
   },
   "outputs": [
    {
     "data": {
      "text/plain": [
       "3"
      ]
     },
     "execution_count": 28,
     "metadata": {},
     "output_type": "execute_result"
    }
   ],
   "source": [
    "secondnumber = '2'\n",
    "1 + int(secondnumber)"
   ]
  },
  {
   "cell_type": "markdown",
   "metadata": {},
   "source": [
    "... and sometimes it's not so easy:"
   ]
  },
  {
   "cell_type": "code",
   "execution_count": 29,
   "metadata": {
    "collapsed": false
   },
   "outputs": [
    {
     "name": "stdout",
     "output_type": "stream",
     "text": [
      "['wicked', 'radical', 'awesome']overwhelmed\n"
     ]
    }
   ],
   "source": [
    "adjectives = ['wicked', 'radical', 'awesome']\n",
    "more_adjectives = str(adjectives) + 'overwhelmed'\n",
    "print more_adjectives"
   ]
  },
  {
   "cell_type": "markdown",
   "metadata": {},
   "source": [
    "### Basic syntax"
   ]
  },
  {
   "cell_type": "markdown",
   "metadata": {},
   "source": [
    "Python has *variables* and *commands*. Commands may have *arguments* and *options*.\n",
    "\n",
    "> IPython highlights your code automatically, which can help you read it faster and spot problems."
   ]
  },
  {
   "cell_type": "code",
   "execution_count": 30,
   "metadata": {
    "collapsed": false
   },
   "outputs": [
    {
     "name": "stdout",
     "output_type": "stream",
     "text": [
      "7.07106781187\n"
     ]
    }
   ],
   "source": [
    "from math import sqrt  # importing math library and square root function\n",
    "avariable = 50  # make a variable that is 50 as integer\n",
    "answer = sqrt(avariable)  # figure out the answer by issuing a command with avariable as an argument\n",
    "print answer  # tell us"
   ]
  },
  {
   "cell_type": "code",
   "execution_count": 31,
   "metadata": {
    "collapsed": false
   },
   "outputs": [
    {
     "name": "stdout",
     "output_type": "stream",
     "text": [
      "125000.0\n"
     ]
    }
   ],
   "source": [
    "# This example has two arguments\n",
    "from math import pow  # importing pow function (pow is short for 'power')\n",
    "avariable = 50\n",
    "answer = pow(avariable, 3)  # 50 to the power of 3\n",
    "print answer"
   ]
  },
  {
   "cell_type": "markdown",
   "metadata": {},
   "source": [
    "## Advantages of IPython"
   ]
  },
  {
   "cell_type": "markdown",
   "metadata": {},
   "source": [
    "So, we've been writing Python code in an IPython notebook. Why?\n",
    "\n",
    "1. The main strength of IPython is that you can run bits of code individually, so you don't have to keep repeating things. For example, if you scroll up to the last function and replace the 50 with 2, you can re-run that code and get the new answer. \n",
    "2. IPython allows you to display images alongside code, and to save the input and output together.\n",
    "3. IPython makes learning a bit easier, as mistakes are easier to find and do not break an entire workflow.\n",
    "\n",
    "You can get more information on IPython, including how to install it on your own machine, at the [IPython Homepage](http://ipython.org)."
   ]
  },
  {
   "cell_type": "markdown",
   "metadata": {},
   "source": [
    "So, the last thing to do in this session is to discuss what you all make of IPython. Can anyone see potential for Python in their own research? What are you working on, anyway? \n",
    "\n",
    "Anything you're struggling with so far?"
   ]
  },
  {
   "cell_type": "markdown",
   "metadata": {},
   "source": [
    "# Session 2: Functions, lists and variables"
   ]
  },
  {
   "cell_type": "markdown",
   "metadata": {},
   "source": [
    "Welcome back. How's everybody settling in?\n",
    "\n",
    "At this point, we want to dive more deeply into general Python functionality. We want to define some functions, manipulate some lists, and understand better what variables are and what they do."
   ]
  },
  {
   "cell_type": "markdown",
   "metadata": {},
   "source": [
    "### Defining a function"
   ]
  },
  {
   "cell_type": "markdown",
   "metadata": {},
   "source": [
    "You may wish to repeat an operation multiple times looking at different texts or different terms within a text. Instead of re-entering the formula every time, you can assign a name and set of actions to a particular task.\n",
    "\n",
    "We've just created a simple function that welcomed you and told you the time.\n",
    "\n",
    "Previously, we calculated the lexical diversity of a text. In NLTK, we can create a function called **lexical diversity** that runs a single line of code. We can then call this function to quickly determine the lexical density of a corpus or subcorpus.\n",
    "Advantages of functions:\n",
    "1. Save you typing\n",
    "2. You can be sure you're doing exactly the same operation every time\n",
    "<br>\n",
    "> **Note** Learn to love tab-completion! Typing the first one or two letters of a command you've used previously then hitting tab \n",
    "will auto-complete that command, saving you typing (i.e. time and mistakes!). \n",
    " \n",
    "<markdown cell>\n",
    "**Challenge!**\n",
    "\n",
    "Using a function, determine which of the nine texts in the NLTK Book has the highest lexical diversity score."
   ]
  },
  {
   "cell_type": "code",
   "execution_count": 32,
   "metadata": {
    "collapsed": false
   },
   "outputs": [],
   "source": [
    "def lexical_diversity(text):\n",
    "    return len(text)/len(set(text))"
   ]
  },
  {
   "cell_type": "code",
   "execution_count": 33,
   "metadata": {
    "collapsed": false
   },
   "outputs": [
    {
     "data": {
      "text/plain": [
       "20"
      ]
     },
     "execution_count": 33,
     "metadata": {},
     "output_type": "execute_result"
    }
   ],
   "source": [
    "#After the function has been defined, we can run it:\n",
    "lexical_diversity(text2)"
   ]
  },
  {
   "cell_type": "markdown",
   "metadata": {},
   "source": [
    "The parentheses are important here as they sepatate the the task, that is the work of the function, from the data that the function is to be performed on. \n",
    "The data in parentheses is called the argument of the function. When we use a function, we say that we 'call' it. \n",
    "\n",
    "Other functions that we've used already include len() and sorted() - these were predefined. *lexical_diversity()* is one we set up ourselves; note that it's conventional to put a set of parentheses after a function, to make it clear what we're talking about."
   ]
  },
  {
   "cell_type": "markdown",
   "metadata": {},
   "source": [
    "### Lists"
   ]
  },
  {
   "cell_type": "markdown",
   "metadata": {},
   "source": [
    "Python treats a text as a long list of words. First, we'll make some lists of our own, to give you an idea of how a list behaves."
   ]
  },
  {
   "cell_type": "code",
   "execution_count": 34,
   "metadata": {
    "collapsed": false
   },
   "outputs": [],
   "source": [
    "sent1 = ['Call', 'me', 'Ishmael', '.']"
   ]
  },
  {
   "cell_type": "code",
   "execution_count": 35,
   "metadata": {
    "collapsed": false
   },
   "outputs": [
    {
     "data": {
      "text/plain": [
       "['Call', 'me', 'Ishmael', '.']"
      ]
     },
     "execution_count": 35,
     "metadata": {},
     "output_type": "execute_result"
    }
   ],
   "source": [
    "sent1"
   ]
  },
  {
   "cell_type": "code",
   "execution_count": 36,
   "metadata": {
    "collapsed": false
   },
   "outputs": [
    {
     "data": {
      "text/plain": [
       "4"
      ]
     },
     "execution_count": 36,
     "metadata": {},
     "output_type": "execute_result"
    }
   ],
   "source": [
    "len(sent1)"
   ]
  },
  {
   "cell_type": "markdown",
   "metadata": {},
   "source": [
    "The opening sentences of each of our texts have been pre-defined for you. You can inspect them by typing in 'sent2' etc.\n",
    "\n",
    "You can add lists together, creating a new list containing all the items from both lists. You can do this by typing out the two lists or you can add two or more pre-defined lists. This is called concatenation."
   ]
  },
  {
   "cell_type": "code",
   "execution_count": 37,
   "metadata": {
    "collapsed": false
   },
   "outputs": [
    {
     "data": {
      "text/plain": [
       "['Fellow',\n",
       " '-',\n",
       " 'Citizens',\n",
       " 'of',\n",
       " 'the',\n",
       " 'Senate',\n",
       " 'and',\n",
       " 'of',\n",
       " 'the',\n",
       " 'House',\n",
       " 'of',\n",
       " 'Representatives',\n",
       " ':',\n",
       " 'Call',\n",
       " 'me',\n",
       " 'Ishmael',\n",
       " '.']"
      ]
     },
     "execution_count": 37,
     "metadata": {},
     "output_type": "execute_result"
    }
   ],
   "source": [
    "sent4 + sent1"
   ]
  },
  {
   "cell_type": "markdown",
   "metadata": {},
   "source": [
    "We can also add an item to the end of a list by appending. When we append(), the list itself is updated. "
   ]
  },
  {
   "cell_type": "code",
   "execution_count": 38,
   "metadata": {
    "collapsed": false
   },
   "outputs": [
    {
     "data": {
      "text/plain": [
       "['Call', 'me', 'Ishmael', '.', 'Please']"
      ]
     },
     "execution_count": 38,
     "metadata": {},
     "output_type": "execute_result"
    }
   ],
   "source": [
    "sent1.append('Please')\n",
    "sent1"
   ]
  },
  {
   "cell_type": "markdown",
   "metadata": {},
   "source": [
    "There are some things we can do to make it easier to read the contents of a string. Note that we get some brackets and so on when we try to print the items in a list as a string."
   ]
  },
  {
   "cell_type": "code",
   "execution_count": 39,
   "metadata": {
    "collapsed": false
   },
   "outputs": [
    {
     "name": "stdout",
     "output_type": "stream",
     "text": [
      "Our fruit salad contains: ['watermelon', 'orange']\n"
     ]
    }
   ],
   "source": [
    "fruitsalad = []  # declare an empty list\n",
    "fruitsalad.append('watermelon')  # add watermelon\n",
    "fruitsalad.append('orange')  # add orange\n",
    "print 'Our fruit salad contains: ' + str(fruitsalad)"
   ]
  },
  {
   "cell_type": "markdown",
   "metadata": {},
   "source": [
    "If we want to print our ingredients in a nicer looking form, we might use a function like *join()*"
   ]
  },
  {
   "cell_type": "code",
   "execution_count": 40,
   "metadata": {
    "collapsed": false
   },
   "outputs": [
    {
     "name": "stdout",
     "output_type": "stream",
     "text": [
      "Our fruit salad contains: watermelonorange\n"
     ]
    }
   ],
   "source": [
    "fruitsalad = []\n",
    "fruitsalad.append('watermelon')\n",
    "fruitsalad.append('orange')\n",
    "listasastring = ''.join(fruitsalad)  # create a string with all the list items joined together\n",
    "print 'Our fruit salad contains: ' + listasastring"
   ]
  },
  {
   "cell_type": "markdown",
   "metadata": {},
   "source": [
    "... whoops! Still ugly. We didn't put anything in between the '' to use as a delimiter."
   ]
  },
  {
   "cell_type": "code",
   "execution_count": 41,
   "metadata": {
    "collapsed": false
   },
   "outputs": [
    {
     "name": "stdout",
     "output_type": "stream",
     "text": [
      "Our fruit salad contains: watermelon, orange, canteloupe\n"
     ]
    }
   ],
   "source": [
    "fruitsalad.append('canteloupe')\n",
    "listasastring = ', '.join(fruitsalad)  # note the comma and space in quotation marks\n",
    "print 'Our fruit salad contains: ' + listasastring"
   ]
  },
  {
   "cell_type": "markdown",
   "metadata": {},
   "source": [
    "###  Indexing Lists"
   ]
  },
  {
   "cell_type": "markdown",
   "metadata": {},
   "source": [
    "We can navigate this list with the help of indexes. Just as we can find out the number of times a word occurs in a text, we can also find where a word first occurs. We can navigate to different points in a text without restriction, so long as we can describe where we want to be."
   ]
  },
  {
   "cell_type": "code",
   "execution_count": 42,
   "metadata": {
    "collapsed": false
   },
   "outputs": [
    {
     "data": {
      "text/plain": [
       "173"
      ]
     },
     "execution_count": 42,
     "metadata": {},
     "output_type": "execute_result"
    }
   ],
   "source": [
    "text4.index('awaken')"
   ]
  },
  {
   "cell_type": "markdown",
   "metadata": {},
   "source": [
    "This works in reverse as well. We can ask Python to locate the 158th item in our list (note that we use square brackets here, not parentheses)"
   ]
  },
  {
   "cell_type": "code",
   "execution_count": 43,
   "metadata": {
    "collapsed": false
   },
   "outputs": [
    {
     "data": {
      "text/plain": [
       "u'the'"
      ]
     },
     "execution_count": 43,
     "metadata": {},
     "output_type": "execute_result"
    }
   ],
   "source": [
    "text4[158]"
   ]
  },
  {
   "cell_type": "markdown",
   "metadata": {},
   "source": [
    "As well as pulling out individual items from a list, indexes can be used to pull out selections of text from a large corpus to inspect. We call this slicing"
   ]
  },
  {
   "cell_type": "code",
   "execution_count": 44,
   "metadata": {
    "collapsed": false
   },
   "outputs": [
    {
     "data": {
      "text/plain": [
       "[u'U86',\n",
       " u'thats',\n",
       " u'why',\n",
       " u'something',\n",
       " u'like',\n",
       " u'gamefly',\n",
       " u'is',\n",
       " u'so',\n",
       " u'good',\n",
       " u'because',\n",
       " u'you',\n",
       " u'can',\n",
       " u'actually',\n",
       " u'play',\n",
       " u'a',\n",
       " u'full',\n",
       " u'game',\n",
       " u'without',\n",
       " u'buying',\n",
       " u'it']"
      ]
     },
     "execution_count": 44,
     "metadata": {},
     "output_type": "execute_result"
    }
   ],
   "source": [
    "text5[16715:16735]"
   ]
  },
  {
   "cell_type": "markdown",
   "metadata": {},
   "source": [
    "If we're asking for the beginning or end of a text, we can leave out the first or second number. For instance, [:5] will give us the first five items in a list while [8:] will give us all the elements from the eighth to the end. "
   ]
  },
  {
   "cell_type": "code",
   "execution_count": 45,
   "metadata": {
    "collapsed": false
   },
   "outputs": [
    {
     "data": {
      "text/plain": [
       "[u'upon',\n",
       " u'us',\n",
       " u',',\n",
       " u'we',\n",
       " u'carried',\n",
       " u'forth',\n",
       " u'that',\n",
       " u'great',\n",
       " u'gift',\n",
       " u'of',\n",
       " u'freedom',\n",
       " u'and',\n",
       " u'delivered',\n",
       " u'it',\n",
       " u'safely',\n",
       " u'to',\n",
       " u'future',\n",
       " u'generations',\n",
       " u'.',\n",
       " u'Thank',\n",
       " u'you',\n",
       " u'.',\n",
       " u'God',\n",
       " u'bless',\n",
       " u'you',\n",
       " u'.',\n",
       " u'And',\n",
       " u'God',\n",
       " u'bless',\n",
       " u'the',\n",
       " u'United',\n",
       " u'States',\n",
       " u'of',\n",
       " u'America',\n",
       " u'.']"
      ]
     },
     "execution_count": 45,
     "metadata": {},
     "output_type": "execute_result"
    }
   ],
   "source": [
    "text2[:10]\n",
    "text4[145700:]"
   ]
  },
  {
   "cell_type": "markdown",
   "metadata": {},
   "source": [
    "To help you understand how indexes work, let's create one.\n",
    "\n",
    "We start by defining the name of our index and then add the items. You probably won't do this in your own work, but you may want to manipulate an index in other ways. Pay attention to the quote marks and commas when you create your test sentence."
   ]
  },
  {
   "cell_type": "code",
   "execution_count": 46,
   "metadata": {
    "collapsed": false
   },
   "outputs": [
    {
     "data": {
      "text/plain": [
       "'dog'"
      ]
     },
     "execution_count": 46,
     "metadata": {},
     "output_type": "execute_result"
    }
   ],
   "source": [
    "sent = ['The', 'quick', 'brown', 'fox', 'jumps', 'over', 'the', 'lazy', 'dog']\n",
    "sent[0]\n",
    "sent[8]"
   ]
  },
  {
   "cell_type": "markdown",
   "metadata": {},
   "source": [
    "Note that the first element in the list is zero. This is because we are telling Python to go zero steps forward in the list. If we use an index that is too large (that is, we ask for something that doesn't exist), we'll get an error.\n",
    "\n",
    "We can modify elements in a list by assigning new data to one of its index values. We can also replace a slice with new material."
   ]
  },
  {
   "cell_type": "code",
   "execution_count": 47,
   "metadata": {
    "collapsed": false
   },
   "outputs": [
    {
     "data": {
      "text/plain": [
       "['The', 'quick', 'furry', 'fox', 'jumps', 'over', 'the', 'spotty', 'dog']"
      ]
     },
     "execution_count": 47,
     "metadata": {},
     "output_type": "execute_result"
    }
   ],
   "source": [
    "sent[2] = 'furry'\n",
    "sent[7] = 'spotty'\n",
    "sent"
   ]
  },
  {
   "cell_type": "markdown",
   "metadata": {},
   "source": [
    "###  Defining variables"
   ]
  },
  {
   "cell_type": "markdown",
   "metadata": {},
   "source": [
    "In Python, we give the items we're working with names, a process called assignment. For instance, in the NLTK corpus, 'Sense and Sensibility' has been assigned the name 'text2', which is much easier to work with. \n",
    "We also assigend the name 'sent' to the sentence that we created in the previous exercise, so that we could then instruct Python to do various things with it. Assigning a variable in python looks like this:  \n",
    "variable = expression   \n",
    "You can call your variables (almost) anything you like, but it's a good idea to pick names that will be meaningful and easy to type. You can't use words that already have a meaning in Python, such as import, def, or not. If you try to use a word that is reserved, you'll get a syntax error."
   ]
  },
  {
   "cell_type": "markdown",
   "metadata": {},
   "source": [
    "*Challenge*\n",
    ". Create a list called 'opening' that consists of the phrase \"It was a dark and stormy night; the rain fell in torrents\"\n",
    ". Create a variable called 'clause' that contains the contents of 'opening', up to the semi-colon\n",
    ". Create a variable called 'alphabetised' that contains the contents of 'clause' sorted alphabetically\n",
    ". Print 'alphabetised' "
   ]
  },
  {
   "cell_type": "code",
   "execution_count": 48,
   "metadata": {
    "collapsed": false
   },
   "outputs": [],
   "source": [
    "opening = ['It', 'was', 'a', 'dark', 'and', 'stormy', 'night', ';', 'the', 'rain', 'fell', 'in', 'torrents']\n",
    "clause = opening[0:7]\n",
    "alphabetised = sorted(clause)"
   ]
  },
  {
   "cell_type": "markdown",
   "metadata": {},
   "source": [
    "Note that assigning a variable just causes Python to remember that information without generating any output. \n",
    "\n",
    "If you want Python to show you the result, you have to ask for it (this is a good thing when you assign a variable to a very long list!)."
   ]
  },
  {
   "cell_type": "code",
   "execution_count": 49,
   "metadata": {
    "collapsed": false
   },
   "outputs": [
    {
     "data": {
      "text/plain": [
       "['It', 'was', 'a', 'dark', 'and', 'stormy', 'night']"
      ]
     },
     "execution_count": 49,
     "metadata": {},
     "output_type": "execute_result"
    }
   ],
   "source": [
    "clause"
   ]
  },
  {
   "cell_type": "code",
   "execution_count": 50,
   "metadata": {
    "collapsed": false
   },
   "outputs": [
    {
     "data": {
      "text/plain": [
       "['It', 'a', 'and', 'dark', 'night', 'stormy', 'was']"
      ]
     },
     "execution_count": 50,
     "metadata": {},
     "output_type": "execute_result"
    }
   ],
   "source": [
    "alphabetised"
   ]
  },
  {
   "cell_type": "markdown",
   "metadata": {},
   "source": [
    "### Frequency distributions"
   ]
  },
  {
   "cell_type": "markdown",
   "metadata": {},
   "source": [
    "We can use Python's ability to perform statistical analysis of data to do further exploration of vocabulary. For instance, we might want to be able to find the most common or least common words in a text. We'll start by looking at frequency distribution."
   ]
  },
  {
   "cell_type": "code",
   "execution_count": 51,
   "metadata": {
    "collapsed": false
   },
   "outputs": [],
   "source": [
    "fdist1 = FreqDist(text1)"
   ]
  },
  {
   "cell_type": "code",
   "execution_count": 52,
   "metadata": {
    "collapsed": false
   },
   "outputs": [
    {
     "data": {
      "text/plain": [
       "[(u',', 18713),\n",
       " (u'the', 13721),\n",
       " (u'.', 6862),\n",
       " (u'of', 6536),\n",
       " (u'and', 6024),\n",
       " (u'a', 4569),\n",
       " (u'to', 4542),\n",
       " (u';', 4072),\n",
       " (u'in', 3916),\n",
       " (u'that', 2982),\n",
       " (u\"'\", 2684),\n",
       " (u'-', 2552),\n",
       " (u'his', 2459),\n",
       " (u'it', 2209),\n",
       " (u'I', 2124),\n",
       " (u's', 1739),\n",
       " (u'is', 1695),\n",
       " (u'he', 1661),\n",
       " (u'with', 1659),\n",
       " (u'was', 1632),\n",
       " (u'as', 1620),\n",
       " (u'\"', 1478),\n",
       " (u'all', 1462),\n",
       " (u'for', 1414),\n",
       " (u'this', 1280),\n",
       " (u'!', 1269),\n",
       " (u'at', 1231),\n",
       " (u'by', 1137),\n",
       " (u'but', 1113),\n",
       " (u'not', 1103),\n",
       " (u'--', 1070),\n",
       " (u'him', 1058),\n",
       " (u'from', 1052),\n",
       " (u'be', 1030),\n",
       " (u'on', 1005),\n",
       " (u'so', 918),\n",
       " (u'whale', 906),\n",
       " (u'one', 889),\n",
       " (u'you', 841),\n",
       " (u'had', 767),\n",
       " (u'have', 760),\n",
       " (u'there', 715),\n",
       " (u'But', 705),\n",
       " (u'or', 697),\n",
       " (u'were', 680),\n",
       " (u'now', 646),\n",
       " (u'which', 640),\n",
       " (u'?', 637),\n",
       " (u'me', 627),\n",
       " (u'like', 624)]"
      ]
     },
     "execution_count": 52,
     "metadata": {},
     "output_type": "execute_result"
    }
   ],
   "source": [
    "fdist1.most_common(50)"
   ]
  },
  {
   "cell_type": "code",
   "execution_count": 53,
   "metadata": {
    "collapsed": false
   },
   "outputs": [
    {
     "data": {
      "text/plain": [
       "906"
      ]
     },
     "execution_count": 53,
     "metadata": {},
     "output_type": "execute_result"
    }
   ],
   "source": [
    "fdist1['whale']"
   ]
  },
  {
   "cell_type": "code",
   "execution_count": 54,
   "metadata": {
    "collapsed": false
   },
   "outputs": [
    {
     "data": {
      "image/png": "[encoded data removed]",
      "text/plain": [
       "<matplotlib.figure.Figure at 0x105b7fc90>"
      ]
     },
     "metadata": {},
     "output_type": "display_data"
    }
   ],
   "source": [
    "fdist1.plot(50, cumulative = True)"
   ]
  },
  {
   "cell_type": "markdown",
   "metadata": {},
   "source": [
    "*Challenge!*\n",
    "\n",
    "Create a function called \"Common_Words\" and use it to compare the 15 most common words of four of the texts in the NLTK book. \n",
    "Discuss what you found with your neighbour."
   ]
  },
  {
   "cell_type": "markdown",
   "metadata": {},
   "source": [
    "As well as counting individual words, we can count other features of vocabulary, such as how often words of different lengths occur. We do this by putting together a number of the commands we've already learned.\n",
    "\n",
    "We could start like this: \n",
    "\n",
    "     [len(w) for w in text1]\n",
    "\n",
    "... but this would print the length of every word in the whole book, so let's skip that bit!"
   ]
  },
  {
   "cell_type": "code",
   "execution_count": 55,
   "metadata": {
    "collapsed": false
   },
   "outputs": [],
   "source": [
    "fdist2= FreqDist(len(w) for w in text1)"
   ]
  },
  {
   "cell_type": "code",
   "execution_count": 56,
   "metadata": {
    "collapsed": false
   },
   "outputs": [
    {
     "data": {
      "text/plain": [
       "3"
      ]
     },
     "execution_count": 56,
     "metadata": {},
     "output_type": "execute_result"
    }
   ],
   "source": [
    "fdist2.max()"
   ]
  },
  {
   "cell_type": "code",
   "execution_count": 57,
   "metadata": {
    "collapsed": false
   },
   "outputs": [
    {
     "data": {
      "text/plain": [
       "0.19255882431878046"
      ]
     },
     "execution_count": 57,
     "metadata": {},
     "output_type": "execute_result"
    }
   ],
   "source": [
    "fdist2.freq(3)"
   ]
  },
  {
   "cell_type": "markdown",
   "metadata": {},
   "source": [
    "These last two commands tell us that the most common word length is 3, and that these 3 letter words account for about 20% of the book. \n",
    "We can see this just by visually inspecting the list produced by *fdist2.most_common()*, but if this list were too long to inspect readily, or we didn't want to print it, there are other ways to explore it.  "
   ]
  },
  {
   "cell_type": "markdown",
   "metadata": {},
   "source": [
    "It is possible to select the longest words in a text, which may tell you something about its vocabulary and style"
   ]
  },
  {
   "cell_type": "code",
   "execution_count": 58,
   "metadata": {
    "collapsed": false
   },
   "outputs": [
    {
     "data": {
      "text/plain": [
       "[u'RESPONSIBILITIES',\n",
       " u'antiphilosophists',\n",
       " u'constitutionally',\n",
       " u'contradistinction',\n",
       " u'discountenancing',\n",
       " u'disqualification',\n",
       " u'enthusiastically',\n",
       " u'instrumentalities',\n",
       " u'internationality',\n",
       " u'irresponsibility',\n",
       " u'misappropriation',\n",
       " u'misrepresentation',\n",
       " u'misunderstanding',\n",
       " u'responsibilities',\n",
       " u'sentimentalizing',\n",
       " u'transcontinental',\n",
       " u'uncharitableness',\n",
       " u'unconstitutional']"
      ]
     },
     "execution_count": 58,
     "metadata": {},
     "output_type": "execute_result"
    }
   ],
   "source": [
    "v = set(text4)\n",
    "long_words = [word for word in v if len(word) > 15]\n",
    "sorted(long_words)"
   ]
  },
  {
   "cell_type": "markdown",
   "metadata": {},
   "source": [
    "We can fine-tune our selection even further by adding other conditions. For instance, we might want to find long words that occur frequently (or rarely).  \n",
    "\n",
    "**Challenge!**\n",
    "\n",
    "Can you find all the words in a text that are more than seven letters long and occur more than seven times?"
   ]
  },
  {
   "cell_type": "code",
   "execution_count": 60,
   "metadata": {
    "collapsed": false
   },
   "outputs": [
    {
     "data": {
      "text/plain": [
       "[u'#14-19teens',\n",
       " u'#talkcity_adults',\n",
       " u'((((((((((',\n",
       " u'........',\n",
       " u'Question',\n",
       " u'actually',\n",
       " u'anything',\n",
       " u'computer',\n",
       " u'cute.-ass',\n",
       " u'everyone',\n",
       " u'football',\n",
       " u'innocent',\n",
       " u'listening',\n",
       " u'remember',\n",
       " u'seriously',\n",
       " u'something',\n",
       " u'together',\n",
       " u'tomorrow',\n",
       " u'watching']"
      ]
     },
     "execution_count": 60,
     "metadata": {},
     "output_type": "execute_result"
    }
   ],
   "source": [
    "fdist3 = FreqDist(text5)\n",
    "sorted(w for w in set(text5) if len(w) > 7 and fdist3[w] > 7)"
   ]
  },
  {
   "cell_type": "markdown",
   "metadata": {},
   "source": [
    "There are a number of functions defined for NLTK's frequency distributions:\n",
    "\n",
    " | Function | Purpose  |\n",
    " |--------------|------------|\n",
    " | fdist = FreqDist(samples) | create a frequency distribution containing the given samples |\n",
    " | fdist[sample] += 1 | increment the count for this sample |\n",
    " | fdist['monstrous']  | count of the number of times a given sample occurred |\n",
    " | fdist.freq('monstrous') | frequency of a given sample |\n",
    " | fdist.N()  |  total number of samples |\n",
    " | fdist.most_common(n)   |  the n most common samples and their frequencies |\n",
    " | for sample in fdist:   |  iterate over the items in fdist, when in the loop, we refer to each item as sample |\n",
    " | fdist.max() | sample with the greatest count |\n",
    " | fdist.tabulate()   |  tabulate the frequency distribution |\n",
    " | fdist.plot()  |   graphical plot of the frequency distribution |\n",
    " | fdist.plot(cumulative=True) | cumulative plot of the frequency distribution |\n",
    " | fdist1 < fdist2 | test if samples in fdist1 occur less frequently than in fdist2 |"
   ]
  },
  {
   "cell_type": "markdown",
   "metadata": {},
   "source": [
    "We can also find words that typically occur together, which tend to be very specific to a text or genre of texts. We'll talk more about these features and how to use them later."
   ]
  },
  {
   "cell_type": "code",
   "execution_count": 61,
   "metadata": {
    "collapsed": false
   },
   "outputs": [
    {
     "name": "stdout",
     "output_type": "stream",
     "text": [
      "United States; fellow citizens; four years; years ago; Federal\n",
      "Government; General Government; American people; Vice President; Old\n",
      "World; Almighty God; Fellow citizens; Chief Magistrate; Chief Justice;\n",
      "God bless; every citizen; Indian tribes; public debt; one another;\n",
      "foreign nations; political parties\n"
     ]
    }
   ],
   "source": [
    "text4.collocations()"
   ]
  },
  {
   "cell_type": "markdown",
   "metadata": {},
   "source": [
    "We can also use numerical operators to refine the types of searches we ask Python to run. We can use the following relational operators:\n",
    "\n",
    " |  Relational | Meaning |\n",
    " |--------------:|:------------|\n",
    " | <    |  less than |\n",
    " | <=   |   less than or equal to |\n",
    " | ==  |    equal to (note this is two \"=\" signs, not one) |\n",
    " | !=   |   not equal to |\n",
    " | \\>   |   greater than |\n",
    " | \\>= |   greater than or equal to |"
   ]
  },
  {
   "cell_type": "markdown",
   "metadata": {},
   "source": [
    "*Challenge!*\n",
    "Using one of the pre-defined sentences in the NLTK corpus, use the relational operators above to find:"
   ]
  },
  {
   "cell_type": "markdown",
   "metadata": {},
   "source": [
    "1. Words longer than four characters\n",
    "2. Words of four or more characters\n",
    "3. Words of exactly four characters"
   ]
  },
  {
   "cell_type": "code",
   "execution_count": 62,
   "metadata": {
    "collapsed": false
   },
   "outputs": [
    {
     "name": "stdout",
     "output_type": "stream",
     "text": [
      "[u'writings', u'aegis', u'hanging', u'Until', u'aggression', u'looking', u'granting', u'aggregations', u'refunding', u'Western']\n"
     ]
    }
   ],
   "source": [
    "# Words longer than four characters:\n",
    "v = set(text4)\n",
    "morefour_words = [word for word in v if len(word) > 4]\n",
    "print morefour_words[:10]"
   ]
  },
  {
   "cell_type": "code",
   "execution_count": 63,
   "metadata": {
    "collapsed": false
   },
   "outputs": [
    {
     "name": "stdout",
     "output_type": "stream",
     "text": [
      "[u'writings', u'four', u'Does', u'aegis', u'hanging', u'Until', u'aggression', u'looking', u'granting', u'aggregations']\n"
     ]
    }
   ],
   "source": [
    "# Words of four or more characters:\n",
    "v = set(text4)\n",
    "fourormore_words = [word for word in v if len(word) >= 4]\n",
    "print fourormore_words[:10]"
   ]
  },
  {
   "cell_type": "code",
   "execution_count": 65,
   "metadata": {
    "collapsed": false
   },
   "outputs": [
    {
     "name": "stdout",
     "output_type": "stream",
     "text": [
      "[u'four', u'Does', u'Less', u'nigh', u'mail', u'hero', u'here', u'Rule', u'hurt', u'hold']\n"
     ]
    }
   ],
   "source": [
    "# Words of exactly four characters:\n",
    "v = set(text4)\n",
    "four_words = [word for word in v if len(word) == 4]\n",
    "print four_words[:10]"
   ]
  },
  {
   "cell_type": "markdown",
   "metadata": {},
   "source": [
    "We can also look for features such as letter combinations, upper and lowercase letters, and digits. Some operators you might like to use are:\n",
    "\n",
    "\n",
    " | Operator  | Purpose  |\n",
    " |--------------|------------|\n",
    " | s.endswith(t)  |  test if s ends with t | \n",
    " | t in s         |  test if t is a substring of s | \n",
    " | s.islower()    |  test if s contains cased characters and all are lowercase | \n",
    " | s.isupper()    |  test if s contains cased characters and all are uppercase | \n",
    " | s.isalpha()    |  test if s is non-empty and all characters in s are alphabetic | \n",
    " | s.isalnum()    |  test if s is non-empty and all characters in s are alphanumeric | \n",
    " | s.isdigit()    |  test if s is non-empty and all characters in s are digits | \n",
    " | s.istitle()    |  test if s contains cased characters and is titlecased (i.e. all words in s have initial capitals) | "
   ]
  },
  {
   "cell_type": "code",
   "execution_count": 66,
   "metadata": {
    "collapsed": false
   },
   "outputs": [
    {
     "data": {
      "text/plain": [
       "[u'comfortableness',\n",
       " u'honourableness',\n",
       " u'immutableness',\n",
       " u'indispensableness',\n",
       " u'indomitableness',\n",
       " u'intolerableness',\n",
       " u'palpableness',\n",
       " u'reasonableness',\n",
       " u'uncomfortableness']"
      ]
     },
     "execution_count": 66,
     "metadata": {},
     "output_type": "execute_result"
    }
   ],
   "source": [
    "sorted(w for w in set(text1) if w.endswith('ableness'))"
   ]
  },
  {
   "cell_type": "code",
   "execution_count": 67,
   "metadata": {
    "collapsed": false
   },
   "outputs": [
    {
     "data": {
      "text/plain": [
       "['29', '61']"
      ]
     },
     "execution_count": 67,
     "metadata": {},
     "output_type": "execute_result"
    }
   ],
   "source": [
    "sorted(n for n in sent7 if n.isdigit())"
   ]
  },
  {
   "cell_type": "markdown",
   "metadata": {},
   "source": [
    "Have a play around with some of these operators in the cells below."
   ]
  },
  {
   "cell_type": "code",
   "execution_count": null,
   "metadata": {
    "collapsed": false
   },
   "outputs": [],
   "source": []
  },
  {
   "cell_type": "code",
   "execution_count": null,
   "metadata": {
    "collapsed": false
   },
   "outputs": [],
   "source": []
  },
  {
   "cell_type": "code",
   "execution_count": null,
   "metadata": {
    "collapsed": false
   },
   "outputs": [],
   "source": [
    "# You can insert more cells via the menu bar if you need to!"
   ]
  },
  {
   "cell_type": "markdown",
   "metadata": {},
   "source": [
    "**Bonus!**\n",
    "\n",
    "You'll remember right at the beginning we started looking at the size of the vocabulary of a text, but there were two problems with the results we got from using:\n",
    "\n",
    "     len(set(text1)).\n",
    "\n",
    "This count includes items of punctuation and treats capitalised and non-capitalised words as different things (*This* vs *this*). We can now fix these problems. We start by getting rid of capitalised words, then we get rid of the punctuation and numbers."
   ]
  },
  {
   "cell_type": "code",
   "execution_count": 68,
   "metadata": {
    "collapsed": false
   },
   "outputs": [
    {
     "data": {
      "text/plain": [
       "17231"
      ]
     },
     "execution_count": 68,
     "metadata": {},
     "output_type": "execute_result"
    }
   ],
   "source": [
    "len(set(word.lower() for word in text1))"
   ]
  },
  {
   "cell_type": "code",
   "execution_count": 69,
   "metadata": {
    "collapsed": false
   },
   "outputs": [
    {
     "data": {
      "text/plain": [
       "16948"
      ]
     },
     "execution_count": 69,
     "metadata": {},
     "output_type": "execute_result"
    }
   ],
   "source": [
    "len(set(word.lower() for word in text1 if word.isalpha()))"
   ]
  },
  {
   "cell_type": "markdown",
   "metadata": {},
   "source": [
    "<img style=\"float:left\" src=\"http://images.catsolonline.com/cache/custom/CEN/CE651-250x250.jpg\" />\n",
    "<br>"
   ]
  },
  {
   "cell_type": "markdown",
   "metadata": {},
   "source": [
    "You've completed the introduction to Python Natural Language Toolkit! To summarise, here's what you've learned so far:\n",
    "\n",
    "* How to navigate the iPython notebook\n",
    "* How Python uses whitespace \n",
    "* Why functions are useful and how to define one\n",
    "* How to use basic Python commands to start exploring features of a text\n",
    "\n",
    "We'll practice all these commands in the following lessons ... so don't panic!\n",
    "\n",
    "It's a lot to take in and it will probably take a while before you feel really comfortable."
   ]
  },
  {
   "cell_type": "markdown",
   "metadata": {},
   "source": [
    "# Session 3: Common NLTK tasks"
   ]
  },
  {
   "cell_type": "markdown",
   "metadata": {},
   "source": [
    "<br>\n",
    "In this session we provide an quick introduction to the field of *corpus linguistics*. We then engage with common uses of NLTK within these areas, such as sentence segmentation, tokenisation and stemming. Often, NLTK has inbuilt methods for performing these tasks. As a learning exercise, however, we will sometimes build basic tools from scratch."
   ]
  },
  {
   "cell_type": "markdown",
   "metadata": {},
   "source": [
    "## Corpus linguistics"
   ]
  },
  {
   "cell_type": "markdown",
   "metadata": {},
   "source": [
    "Though corpus linguistics has been around since the 1950s, it is only in the last 20 years that its methods have been made available to individual researchers. GUIs including [Wordsmith Tools](http://www.lexically.net/wordsmith/) and [AntConc](http://www.laurenceanthony.net/software.html). \n",
    "\n",
    "Alongside the development of GUIs, there has also been a shift from *general, balanced corpora* (corpora seeking to represent a language generally) toward *specialised corpora* (corpora containing texts of one specific type, from one speaker, etc.). More and more commonly, texts are taken from the Web.\n",
    "\n",
    "> **Note:** We'll discuss building corpora from online texts in a bit more detail tomorrow afternoon.\n",
    "\n",
    "After a long period of resistance, corpus linguistics has gained acceptence within a number of research areas. A few popular applications are within:\n",
    "\n",
    "* **Lexicography** (creating usage-based definitions of words and locating real examples)\n",
    "* **Language pedagogy** (advanced language learners can use a concordancing GUI or collocation tests to understand how certain words are used in the target language)\n",
    "* **Discourse analysis** (researching how meaning is made beyond the level of the clause/sentence)\n",
    "\n",
    "Notably, corpus linguistic methods have been embraced within the emerging paradigm of Digital Humanities, where it's sometimes called *distant reading*."
   ]
  },
  {
   "cell_type": "markdown",
   "metadata": {},
   "source": [
    "### Corpora and discourse"
   ]
  },
  {
   "cell_type": "markdown",
   "metadata": {},
   "source": [
    "As hardware, software and data become more and more available, people have started using corpus linguistic methods for discourse-analytic work. Paul Baker refers the combination of corpus linguistics and (critical) discourse analysis as a [*useful methodological synergy*](#ref:baker). Corpora bring objectivity and empiricism to a qualitative, interpretative tradition, while discourse-analytic methods provide corpus linguistics with a means of contextualising abstracted results.\n",
    "\n",
    "Within this area, researchers rely on corpora to varying extents. In *corpus-driven* discourse analysis, researchers interpret the corpus based on the findings of the corpus interrogation. In *corpus-assisted* discourse analysis, researchers may use corpora to provide evidence about the way a given person/idea/discourse is commonly represented by certain people/in certain publications etc.\n",
    "\n",
    "Our work here falls under the *corpus-driven* heading, as we are exploring the dataset without any major hypotheses in mind.\n",
    "\n",
    "> **Note:** Some linguists remain skeptical of corpus linguistics generally. In a well-known critique, Henry Widdowson ([2000, p. 6-7](#ref:widdowson)) said:\n",
    ">\n",
    "> Corpus linguistics \\[...\\] (there) is no doubt that this is an immensely important development in descriptive linguistics. That is not the issue here. The quantitative analysis of text by computer reveals facts about actual language behaviour which are not, or at least not immediately, accessible to intuition. There are frequencies of occurrence of words, and regular patterns of collocational co-occurrence, which users are unaware of, though they must be part of their competence in a procedural sense since they would not otherwise be attested. They are third person observed data ('When do they use the word X?') which are different from the first person data of introspection ('When do I use the word X?'), and the second person data of elicitation ('When do you use the word X?'). Corpus analysis reveals textual facts, fascinating profiles of produced language, and its concordances are always springing surprises. They do indeed reveal a reality about language usage which was hitherto not evident to its users.\n",
    ">\n",
    "> But this achievement of corpus analysis at the same time necessarily defines its limitations. For one thing, since what is revealed is contrary to intuition, then it cannot represent the reality of first person awareness. We get third person facts of what people do, but not the facts of what people know, nor what they think they do: they come from the perspective of the observer looking on, not the introspective of the insider. In ethnomethodogical terms, we do not get member categories of description. Furthermore, it can only be one aspect of what they do that is captured by such quantitative analysis. For, obviously enough, the computer can only cope with the material products ofwhat people do when they use language. It can only analyse the textual traces of the processes whereby meaning is achieved: it cannot account for the complex interplay of linguistic and contextual factors whereby discourse is enacted. It cannot produce ethnographic descriptions of language use. In reference to Hymes's components of communicative competence (Hymes 1972), we can say that corpus analysis deals with the textually attested, but not with the encoded possible, nor the contextually appropriate.\n",
    "> \n",
    "> To point out these rather obvious limitations is not to undervalue corpus analysis but to define more clearly where its value lies. What it can do is reveal the properties of text, and that is impressive enough. But it is necessarily only a partial account of real language. For there are certain aspects of linguistic reality that it cannot reveal at all. In this respect, the linguistics of the attested is just as partial as the linguistics of the possible."
   ]
  },
  {
   "cell_type": "markdown",
   "metadata": {},
   "source": [
    "## Loading a corpus"
   ]
  },
  {
   "cell_type": "markdown",
   "metadata": {},
   "source": [
    "First, we have to load a corpus. We'll use a text file containing posts to an Australian online forum for discussing politics. It's full of very interesting natural language data!"
   ]
  },
  {
   "cell_type": "code",
   "execution_count": 70,
   "metadata": {
    "collapsed": false
   },
   "outputs": [
    {
     "data": {
      "text/html": [
       "<iframe src=http://www.ozpolitic.com/forum/YaBB.pl?board=global width=700 height=350></iframe>"
      ],
      "text/plain": [
       "<IPython.core.display.HTML at 0x10d01fed0>"
      ]
     },
     "execution_count": 70,
     "metadata": {},
     "output_type": "execute_result"
    }
   ],
   "source": [
    "from IPython.display import display\n",
    "from IPython.display import HTML\n",
    "HTML('<iframe src=http://www.ozpolitic.com/forum/YaBB.pl?board=global width=700 height=350></iframe>')"
   ]
  },
  {
   "cell_type": "markdown",
   "metadata": {},
   "source": [
    "This file is available online, at the [ResBaz GitHub](https://github.com/resbaz). We can ask Python to get it for us. \n",
    "\n",
    "> Later in the course, we'll discuss how to extract data from the Web and turn this data into a corpus."
   ]
  },
  {
   "cell_type": "code",
   "execution_count": 71,
   "metadata": {
    "collapsed": false
   },
   "outputs": [
    {
     "data": {
      "text/plain": [
       "u\"no greens-win, many of us right wingers want to stay the hell out of the middle east. nothing is going to stop that sh.thole of the world from tearing each others' throats out.\\nafter all, they have been doing it successfully for centuries.\\nthen you better start educating your hard right mates about greens' renewable energy. sooner we end our addiction to arab oil and middle eastern exports, like live animals, the sooner we can distance ourselves.\\ni am not saying that all muslims are like this. however, i am saying that many, many of them are. they are flying under the radar and getting strong, just like hitler's storm troopers before little adolph rose to power.\\nsensationalist right? no one thought much about little adolph and his brown shirted followers, until they stormed to power, whilst the do gooders stood by and tut tutted.\\nif you are a student of history you can see exactly what is happening here. soon it will be too late, it most probably already is.\\njust when sydney-siders thought it was safe to close their eyes and go to sleep for a night, pondering the lack of evening gun battles lately, they learn of something worse than drive by shootings.\\nas they woke to another day\\x92s work the people of sydney [and melbourne] learned of a joint operation between their states\\x92 police forces and the australian federal police, against an imminent terrorist attack in their cities.\\nfour men - all australian citizens - were arrested this morning as federal and state police, armed with search warrants, swooped on members of the suspected terror cell this morning in the second-largest counter-terrorism operation in the nation's history\\x85. about 400 police raided homes in the northern melbourne suburbs of glenroy, meadow heights, roxburgh park, broadmeadows, westmeadows, preston and epping. they also raided homes at carlton in inner melbourne and colac in southwestern victoria. (source)\\nthe intention, apparently, was to attack a sydney army base:\\nauthorities believe the group is\""
      ]
     },
     "execution_count": 71,
     "metadata": {},
     "output_type": "execute_result"
    }
   ],
   "source": [
    "from urllib import urlopen # a library for working with urls\n",
    "url = \"https://raw.githubusercontent.com/resbaz/lessons/master/nltk/corpora/oz_politics/ozpol.txt\" # define the url\n",
    "raw = urlopen(url).read() # download and read the corpus into raw variable\n",
    "raw = unicode(raw.lower(), 'utf-8') # make it lowercase and unicode\n",
    "len(raw) # how many characters does it contain?\n",
    "raw[:2000] # first 2000 characters"
   ]
  },
  {
   "cell_type": "markdown",
   "metadata": {},
   "source": [
    "We actually already downloaded this file when we first cloned the ResBaz GitHub repository. It's in our *corpora* folder. We can access it like this:"
   ]
  },
  {
   "cell_type": "code",
   "execution_count": 73,
   "metadata": {
    "collapsed": false
   },
   "outputs": [
    {
     "data": {
      "text/plain": [
       "u\"no greens-win, many of us right wingers want to stay the hell out of the middle east. nothing is going to stop that sh.thole of the world from tearing each others' throats out.\\nafter all, they have been doing it successfully for centuries.\\nthen you better start educating your hard right mates about greens' renewable energy. sooner we end our addiction to arab oil and middle eastern exports, like live animals, the sooner we can distance ourselves.\\ni am not saying that all muslims are like this. however, i am saying that many, many of them are. they are flying under the radar and getting strong, just like hitler's storm troopers before little adolph rose to power.\\nsensationalist right? no one thought much about little adolph and his brown shirted followers, until they stormed to power, whilst the do gooders stood by and tut tutted.\\nif you are a student of history you can see exactly what is happening here. soon it will be too late, it most probably already is.\\njust when sydney-siders thought it was safe to close their eyes and go to sleep for a night, pondering the lack of evening gun battles lately, they learn of something worse than drive by shootings.\\nas they woke to another day\\x92s work the people of sydney [and melbourne] learned of a joint operation between their states\\x92 police forces and the australian federal police, against an imminent terrorist attack in their cities.\\nfour men - all australian citizens - were arrested this morning as federal and state police, armed with search warrants, swooped on members of the suspected terror cell this morning in the second-largest counter-terrorism operation in the nation's history\\x85. about 400 police raided homes in the northern melbourne suburbs of glenroy, meadow heights, roxburgh park, broadmeadows, westmeadows, preston and epping. they also raided homes at carlton in inner melbourne and colac in southwestern victoria. (source)\\nthe intention, apparently, was to attack a sydney army base:\\nauthorities believe the group is\""
      ]
     },
     "execution_count": 73,
     "metadata": {},
     "output_type": "execute_result"
    }
   ],
   "source": [
    "f = open('../corpora/oz_politics/ozpol.txt')\n",
    "raw = f.read()\n",
    "raw = unicode(raw.lower(), 'utf-8') # make it lowercase and unicode\n",
    "len(raw)\n",
    "raw[:2000] "
   ]
  },
  {
   "cell_type": "markdown",
   "metadata": {},
   "source": [
    "## Regular Expressions"
   ]
  },
  {
   "cell_type": "markdown",
   "metadata": {},
   "source": [
    "Before we go any further, we need to talk about Regular Expressions. Regular Expressions (regexes) are ways of searching for complex patterns in strings. Regexes are standardised across many programming languages, and can also be used in GUI text editors and word processers."
   ]
  },
  {
   "cell_type": "code",
   "execution_count": 74,
   "metadata": {
    "collapsed": false
   },
   "outputs": [],
   "source": [
    "import nltk # just in case (you should only need to import a library once per session, \n",
    "    # but nothing bad will happen if you do it again)\n",
    "import re # import this before using regexes!"
   ]
  },
  {
   "cell_type": "markdown",
   "metadata": {},
   "source": [
    "If only using alphanumeric characters and spaces, regexes work like any normal search."
   ]
  },
  {
   "cell_type": "code",
   "execution_count": 75,
   "metadata": {
    "collapsed": false
   },
   "outputs": [
    {
     "data": {
      "text/plain": [
       "[u'government',\n",
       " u'government',\n",
       " u'government',\n",
       " u'government',\n",
       " u'government',\n",
       " u'government',\n",
       " u'government',\n",
       " u'government',\n",
       " u'government',\n",
       " u'government',\n",
       " u'government',\n",
       " u'government',\n",
       " u'government',\n",
       " u'government',\n",
       " u'government',\n",
       " u'government',\n",
       " u'government',\n",
       " u'government',\n",
       " u'government',\n",
       " u'government',\n",
       " u'government',\n",
       " u'government',\n",
       " u'government',\n",
       " u'government',\n",
       " u'government',\n",
       " u'government',\n",
       " u'government',\n",
       " u'government',\n",
       " u'government',\n",
       " u'government',\n",
       " u'government',\n",
       " u'government',\n",
       " u'government']"
      ]
     },
     "execution_count": 75,
     "metadata": {},
     "output_type": "execute_result"
    }
   ],
   "source": [
    "# print only match\n",
    "regex = re.compile(r\"government\")\n",
    "re.findall(regex, raw)"
   ]
  },
  {
   "cell_type": "markdown",
   "metadata": {},
   "source": [
    "Hmm ... not very useful."
   ]
  },
  {
   "cell_type": "code",
   "execution_count": 76,
   "metadata": {
    "collapsed": false
   },
   "outputs": [
    {
     "name": "stdout",
     "output_type": "stream",
     "text": [
      "it did not include casualties from government-backed action such as aerial bombing or other killings.\"\n",
      "it was only 20 years ago that muslims of a certain region were asking australian government to send troops to their dung heap of a country. wish i can remember which one it was. general consensus was that no one was going to take those requests seriously -- unless requested by the british or american governments. even then, i bet the public would have laughed it off.\n",
      "as for big to - of course the only thing that might save him and his government would be a war of some kind... worked for his heroine maggie thatcher, whose government promptly hid away the wounded veterans of that conflict so as not to upset the public.\n",
      "terrorist attack = the unlawful use of force or violence against persons or property to intimidate or coerce a government, the civilian population, or any segment thereof in furtherance of political or social objectives.\n",
      "an adf spokesman was on 7.30 the other night trying to pitch the government's message. the message he was selling was that we need to defend \"western values\" and our alliance with the us. he repeated these things a number of times in the interview, which told me he was following the government's script.\n",
      "the middle east is in the situation it is today thanks to the western support for dictatorships and direct military involvement. the middle east is in this situation because very few arab states have made the transition to popularly elected governments. the middle east is still a collection of tribes and tribal allegiances, with very few stable republics. rather than fostering and strengthening local systems of governance and popular representation, western intervention has merely backed tribes, trained their armies and security forces, and let them do their job of supressing their populations rather than including them. the most recent example of this is the al malaki government in iraq, backed all the way by uncle.\n",
      "mind you, the bombing of serbia did lead to the fall of milosevic, but his government was not an insurgency. what's happening in syria and iraq right now is not conventional war. it's guerrilla war, and for this you need an entirely different approach to knee-jerk displays of force.\n",
      "it's very convenient for the government to publicise people being charged with \"buying bombs\".   don't you think?\n",
      "political policies ... like the policy of the howard government to invade iraqi illegally.\n",
      "if this happens it will only add fuel to the would be 'home grown terrorists' to carry out reprisal actions against the australian government.\n",
      "the federal government will have enhanced powers to suspend passports at short notice to stem the flow of young australians joining the islamist rebellions in syria and iraq, under legislation expected to be put to parliament shortly.\n",
      "the reforms, which have strong support in the counter-terrorism community and from government, will plug a security gap at australias borders that is being exploited by scores of would-be jihadists.\n",
      "the government is also weighing whether it can revoke the australian passports of dual nationals fighting abroad, although this is yet to be finalised and is proving problematic to implement given australias obligations under un treaties.\n",
      "operation demetrius was a british army operation in northern ireland on 910 august 1971, during the troubles. it involved the mass arrest and internment (without trial) of 342 people suspected of being involved with irish republican paramilitaries (the provisional ira and official ira), which were waging campaigns against the state. it was proposed by the northern ireland government and approved by the british government. armed soldiers launched dawn raids throughout northern ireland, sparking four days of violence in which 20 civilians, two provisional ira members and two british soldiers were killed. due mainly to faulty intelligence, many of those arrested were catholics or irish nationalists who had no links with republican paramilitaries. loyalist paramilitaries were also carrying out acts of violence, which were mainly directed against the catholic and irish nationalist community, but no loyalists were included in the sweep.[1]\n",
      "be interesting watching a government try and get that past the high court for those born here, with native born australian citizenship.  where you going to deport them to in that case, red?\n",
      "the arab spring was the natural consequence of the end of the cold war. without well-organised puppet governments in countries like egypt, lybia and tunisia, their populations voted with their own feet (or weapons). either way, they got to vote for the first time.\n",
      "why the hell they let those bastards back into australia i don't know. perhaps the laws hadn't been passed that allowed the government to prevent them from re-entering australia.\n",
      "the issue of genocide is an entirely different issue. it's possible for us to protect local civilians or arm them to protect themselves, but this is not sustainable long-term. ultimately, this is a job best done by local forces who are able to get in quick. the kurds and turks have already acted to do this. the iraqis - a government and army we suported, trained and set up - have proven to be incapable of doing this.\n",
      "no, it's not what the government is saying but it's what most australians know. that's what justifies it to me, i'm not too concerned about any other reason. genocide is reason alone, enough to commit.\n",
      "which is exactly what the government was saying last week.\n",
      "the government's sole rationale to isis being an australian regional issue is that returned fighters trained in explosives and firearms use would be an internal risk.\n",
      "david johnston had no answer to this. any returned fighter is, as the government keeps arguing, subject to australian laws for supporting terrorism and fighting in foreign wars.\n",
      "the government are currently mouthing motherhood statements and platitudes - \"humanitarian\", \"global partnerships\", \"restoring international security\".\n",
      "it's a pretty simple question all citizens should want to know if their government is sending their country to war: why?\n",
      "and how do you know that, yadda?  the australian government has not been processing asylum applications now for over 18 months.  no one knows whether they are genuine refugees or not.   what insight do you have that the government itself lacks?\n",
      "and i demand that the australian government provide me withasylum [protection from fear] from the threats coming from moslems in our australian community......because i know that all moslems, are moslems.\n",
      "and i demand that the australian government provide me with asylum [protection from fear] from moslems who are walking on the streets of our australian community.\n"
     ]
    }
   ],
   "source": [
    "# print whole line\n",
    "regex = re.compile(r'government')\n",
    "for line in raw.splitlines():\n",
    "    if regex.search(line) is not None:\n",
    "        print line"
   ]
  },
  {
   "cell_type": "code",
   "execution_count": 77,
   "metadata": {
    "collapsed": false
   },
   "outputs": [
    {
     "data": {
      "text/plain": [
       "[u'it did not include casualties from government-backed action such as aerial bombing or other killings.\"',\n",
       " u'it was only 20 years ago that muslims of a certain region were asking australian government to send troops to their dung heap of a country. wish i can remember which one it was. general consensus was that no one was going to take those requests seriously -- unless requested by the british or american governments. even then, i bet the public would have laughed it off.',\n",
       " u'as for big to - of course the only thing that might save him and his government would be a war of some kind... worked for his heroine maggie thatcher, whose government promptly hid away the wounded veterans of that conflict so as not to upset the public.',\n",
       " u'terrorist attack = the unlawful use of force or violence against persons or property to intimidate or coerce a government, the civilian population, or any segment thereof in furtherance of political or social objectives.',\n",
       " u'an adf spokesman was on 7.30 the other night trying to pitch the government\\'s message. the message he was selling was that we need to defend \"western values\" and our alliance with the us. he repeated these things a number of times in the interview, which told me he was following the government\\'s script.',\n",
       " u'the middle east is in the situation it is today thanks to the western support for dictatorships and direct military involvement. the middle east is in this situation because very few arab states have made the transition to popularly elected governments. the middle east is still a collection of tribes and tribal allegiances, with very few stable republics. rather than fostering and strengthening local systems of governance and popular representation, western intervention has merely backed tribes, trained their armies and security forces, and let them do their job of supressing their populations rather than including them. the most recent example of this is the al malaki government in iraq, backed all the way by uncle.',\n",
       " u\"mind you, the bombing of serbia did lead to the fall of milosevic, but his government was not an insurgency. what's happening in syria and iraq right now is not conventional war. it's guerrilla war, and for this you need an entirely different approach to knee-jerk displays of force.\",\n",
       " u'it\\'s very convenient for the government to publicise people being charged with \"buying bombs\".\\xa0 \\xa0don\\'t you think?',\n",
       " u'political policies ... like the policy of the howard government to invade iraqi illegally.',\n",
       " u\"if this happens it will only add fuel to the would be 'home grown terrorists' to carry out reprisal actions against the australian government.\",\n",
       " u'the federal government will have enhanced powers to suspend passports at short notice to stem the flow of young australians joining the islamist rebellions in syria and iraq, under legislation expected to be put to parliament shortly.',\n",
       " u'the reforms, which have strong support in the counter-terrorism community and from government, will plug a security gap at australia\\x92s borders that is being exploited by scores of would-be jihadists.',\n",
       " u'the government is also weighing whether it can revoke the australian passports of dual nationals fighting abroad, although this is yet to be finalised and is proving problematic to implement given australia\\x92s obligations under un treaties.',\n",
       " u'operation demetrius was a british army operation in northern ireland on 9\\x9610 august 1971, during the troubles. it involved the mass arrest and internment (without trial) of 342 people suspected of being involved with irish republican paramilitaries (the provisional ira and official ira), which were waging campaigns against the state. it was proposed by the northern ireland government and approved by the british government. armed soldiers launched dawn raids throughout northern ireland, sparking four days of violence in which 20 civilians, two provisional ira members and two british soldiers were killed. due mainly to faulty intelligence, many of those arrested were catholics or irish nationalists who had no links with republican paramilitaries. loyalist paramilitaries were also carrying out acts of violence, which were mainly directed against the catholic and irish nationalist community, but no loyalists were included in the sweep.[1]',\n",
       " u'be interesting watching a government try and get that past the high court for those born here, with native born australian citizenship.\\xa0 where you going to deport them to in that case, red?',\n",
       " u'the arab spring was the natural consequence of the end of the cold war. without well-organised puppet governments in countries like egypt, lybia and tunisia, their populations voted with their own feet (or weapons). either way, they got to vote for the first time.',\n",
       " u\"why the hell they let those bastards back into australia i don't know. perhaps the laws hadn't been passed that allowed the government to prevent them from re-entering australia.\",\n",
       " u\"the issue of genocide is an entirely different issue. it's possible for us to protect local civilians or arm them to protect themselves, but this is not sustainable long-term. ultimately, this is a job best done by local forces who are able to get in quick. the kurds and turks have already acted to do this. the iraqis - a government and army we suported, trained and set up - have proven to be incapable of doing this.\",\n",
       " u\"no, it's not what the government is saying but it's what most australians know. that's what justifies it to me, i'm not too concerned about any other reason. genocide is reason alone, enough to commit.\",\n",
       " u'which is exactly what the government was saying last week.',\n",
       " u\"the government's sole rationale to isis being an australian regional issue is that returned fighters trained in explosives and firearms use would be an internal risk.\",\n",
       " u'david johnston had no answer to this. any returned fighter is, as the government keeps arguing, subject to australian laws for supporting terrorism and fighting in foreign wars.',\n",
       " u'the government are currently mouthing motherhood statements and platitudes - \"humanitarian\", \"global partnerships\", \"restoring international security\".',\n",
       " u\"it's a pretty simple question all citizens should want to know if their government is sending their country to war: why?\",\n",
       " u'and how do you know that, yadda?\\xa0 the australian government has not been processing asylum applications now for over 18 months.\\xa0 no one knows whether they are genuine refugees or not.\\xa0 \\xa0what insight do you have that the government itself lacks?',\n",
       " u'and i demand that the australian government provide me withasylum [protection from fear] from the threats coming from moslems in our australian community......because i know that all moslems, are moslems.',\n",
       " u'and i demand that the australian government provide me with asylum [protection from fear] from moslems who are walking on the streets of our australian community.']"
      ]
     },
     "execution_count": 77,
     "metadata": {},
     "output_type": "execute_result"
    }
   ],
   "source": [
    "# or, we can do it by adding to our regex:\n",
    "regex = re.compile(r\".*government.*\")\n",
    "re.findall(regex, raw)"
   ]
  },
  {
   "cell_type": "markdown",
   "metadata": {},
   "source": [
    "... but regex can be much more powerful than that. Certain characters have special meanings:\n",
    "\n",
    "* . (period): any character\n",
    "* \\* (asterisk): any number of times\n",
    "* \\b: word boundary\n",
    "* ^ (carat): start of a line\n",
    "* $ (dollar sign): end of a line\n",
    "* \\+ (plus): one or more times\n",
    "* [xy]: either x or y\n",
    "* o{5}: five os in a row\n",
    "* o{5,}: at least five os in a row\n",
    "* o{,5}: max five os in a row\n",
    "* (any|of|these|words)"
   ]
  },
  {
   "cell_type": "code",
   "execution_count": 78,
   "metadata": {
    "collapsed": false
   },
   "outputs": [
    {
     "data": {
      "text/plain": [
       "[u'advertisement',\n",
       " u'agreement',\n",
       " u'argument',\n",
       " u'armament',\n",
       " u'assessment',\n",
       " u'comment',\n",
       " u'commitment',\n",
       " u'document',\n",
       " u'element',\n",
       " u'encampment',\n",
       " u'environment',\n",
       " u'ferment',\n",
       " u'fundament',\n",
       " u'government',\n",
       " u'implement',\n",
       " u'impliment',\n",
       " u'internment',\n",
       " u'investment',\n",
       " u'involvement',\n",
       " u'moment',\n",
       " u'movement',\n",
       " u'parliament',\n",
       " u'pronouncement',\n",
       " u'punishment',\n",
       " u'resentment',\n",
       " u'segment',\n",
       " u'sentiment',\n",
       " u'statement']"
      ]
     },
     "execution_count": 78,
     "metadata": {},
     "output_type": "execute_result"
    }
   ],
   "source": [
    "# [a-z] means any letter\n",
    "# the plus means ''one or more of the thing before''\n",
    "regex = re.compile(r\"[a-z]+ment\")\n",
    "# find all instances of regex in raw\n",
    "results = re.findall(regex, raw)\n",
    "sorted(set(results)) # sort and print only unique results"
   ]
  },
  {
   "cell_type": "code",
   "execution_count": 85,
   "metadata": {
    "collapsed": false
   },
   "outputs": [
    {
     "data": {
      "text/plain": [
       "[u'administration',\n",
       " u'cancellation',\n",
       " u'cessation',\n",
       " u'clarification',\n",
       " u'condemnation',\n",
       " u'creation',\n",
       " u'declaration',\n",
       " u'dehydration',\n",
       " u'deportation',\n",
       " u'destination',\n",
       " u'duration',\n",
       " u'education',\n",
       " u'estimation',\n",
       " u'explanation',\n",
       " u'extermination',\n",
       " u'formation',\n",
       " u'foundation',\n",
       " u'generation',\n",
       " u'immigration',\n",
       " u'information',\n",
       " u'initiation',\n",
       " u'intimidation',\n",
       " u'invitation',\n",
       " u'legislation',\n",
       " u'migration',\n",
       " u'mitigation',\n",
       " u'mutation',\n",
       " u'nation',\n",
       " u'obligation',\n",
       " u'occupation',\n",
       " u'operation',\n",
       " u'organisation',\n",
       " u'organization',\n",
       " u'population',\n",
       " u'radicalisation',\n",
       " u'representation',\n",
       " u'situation',\n",
       " u'speculation',\n",
       " u'station',\n",
       " u'subjugation']"
      ]
     },
     "execution_count": 85,
     "metadata": {},
     "output_type": "execute_result"
    }
   ],
   "source": [
    "# word that ends in ation:\n",
    "regex = re.compile(r\"[a-z]+ation\\b\")\n",
    "# find all instances of regex in raw\n",
    "results = re.findall(regex, raw)\n",
    "sorted(set(results)) # sort and print only unique results"
   ]
  },
  {
   "cell_type": "markdown",
   "metadata": {},
   "source": [
    "Sometimes, we want match the special characters:"
   ]
  },
  {
   "cell_type": "code",
   "execution_count": 86,
   "metadata": {
    "collapsed": false
   },
   "outputs": [
    {
     "ename": "error",
     "evalue": "unbalanced parenthesis",
     "output_type": "error",
     "traceback": [
      "\u001b[0;31m---------------------------------------------------------------------------\u001b[0m\n\u001b[0;31merror\u001b[0m                                     Traceback (most recent call last)",
      "\u001b[0;32m<ipython-input-86-5a663c604096>\u001b[0m in \u001b[0;36m<module>\u001b[0;34m()\u001b[0m\n\u001b[1;32m      1\u001b[0m \u001b[0mstring\u001b[0m \u001b[0;34m=\u001b[0m \u001b[0;34m'What!? :) U fink im flirtin wit *u*!? LOL'\u001b[0m\u001b[0;34m\u001b[0m\u001b[0m\n\u001b[1;32m      2\u001b[0m \u001b[0;31m# define a regex:\u001b[0m\u001b[0;34m\u001b[0m\u001b[0;34m\u001b[0m\u001b[0m\n\u001b[0;32m----> 3\u001b[0;31m \u001b[0mregex\u001b[0m \u001b[0;34m=\u001b[0m \u001b[0mre\u001b[0m\u001b[0;34m.\u001b[0m\u001b[0mcompile\u001b[0m\u001b[0;34m(\u001b[0m\u001b[0;34mr':)'\u001b[0m\u001b[0;34m)\u001b[0m\u001b[0;34m\u001b[0m\u001b[0m\n\u001b[0m\u001b[1;32m      4\u001b[0m \u001b[0mre\u001b[0m\u001b[0;34m.\u001b[0m\u001b[0mfindall\u001b[0m\u001b[0;34m(\u001b[0m\u001b[0mregex\u001b[0m\u001b[0;34m,\u001b[0m \u001b[0mstring\u001b[0m\u001b[0;34m)\u001b[0m\u001b[0;34m\u001b[0m\u001b[0m\n",
      "\u001b[0;32m/System/Library/Frameworks/Python.framework/Versions/2.7/lib/python2.7/re.pyc\u001b[0m in \u001b[0;36mcompile\u001b[0;34m(pattern, flags)\u001b[0m\n\u001b[1;32m    188\u001b[0m \u001b[0;32mdef\u001b[0m \u001b[0mcompile\u001b[0m\u001b[0;34m(\u001b[0m\u001b[0mpattern\u001b[0m\u001b[0;34m,\u001b[0m \u001b[0mflags\u001b[0m\u001b[0;34m=\u001b[0m\u001b[0;36m0\u001b[0m\u001b[0;34m)\u001b[0m\u001b[0;34m:\u001b[0m\u001b[0;34m\u001b[0m\u001b[0m\n\u001b[1;32m    189\u001b[0m     \u001b[0;34m\"Compile a regular expression pattern, returning a pattern object.\"\u001b[0m\u001b[0;34m\u001b[0m\u001b[0m\n\u001b[0;32m--> 190\u001b[0;31m     \u001b[0;32mreturn\u001b[0m \u001b[0m_compile\u001b[0m\u001b[0;34m(\u001b[0m\u001b[0mpattern\u001b[0m\u001b[0;34m,\u001b[0m \u001b[0mflags\u001b[0m\u001b[0;34m)\u001b[0m\u001b[0;34m\u001b[0m\u001b[0m\n\u001b[0m\u001b[1;32m    191\u001b[0m \u001b[0;34m\u001b[0m\u001b[0m\n\u001b[1;32m    192\u001b[0m \u001b[0;32mdef\u001b[0m \u001b[0mpurge\u001b[0m\u001b[0;34m(\u001b[0m\u001b[0;34m)\u001b[0m\u001b[0;34m:\u001b[0m\u001b[0;34m\u001b[0m\u001b[0m\n",
      "\u001b[0;32m/System/Library/Frameworks/Python.framework/Versions/2.7/lib/python2.7/re.pyc\u001b[0m in \u001b[0;36m_compile\u001b[0;34m(*key)\u001b[0m\n\u001b[1;32m    243\u001b[0m         \u001b[0mp\u001b[0m \u001b[0;34m=\u001b[0m \u001b[0msre_compile\u001b[0m\u001b[0;34m.\u001b[0m\u001b[0mcompile\u001b[0m\u001b[0;34m(\u001b[0m\u001b[0mpattern\u001b[0m\u001b[0;34m,\u001b[0m \u001b[0mflags\u001b[0m\u001b[0;34m)\u001b[0m\u001b[0;34m\u001b[0m\u001b[0m\n\u001b[1;32m    244\u001b[0m     \u001b[0;32mexcept\u001b[0m \u001b[0merror\u001b[0m\u001b[0;34m,\u001b[0m \u001b[0mv\u001b[0m\u001b[0;34m:\u001b[0m\u001b[0;34m\u001b[0m\u001b[0m\n\u001b[0;32m--> 245\u001b[0;31m         \u001b[0;32mraise\u001b[0m \u001b[0merror\u001b[0m\u001b[0;34m,\u001b[0m \u001b[0mv\u001b[0m \u001b[0;31m# invalid expression\u001b[0m\u001b[0;34m\u001b[0m\u001b[0m\n\u001b[0m\u001b[1;32m    246\u001b[0m     \u001b[0;32mif\u001b[0m \u001b[0mlen\u001b[0m\u001b[0;34m(\u001b[0m\u001b[0m_cache\u001b[0m\u001b[0;34m)\u001b[0m \u001b[0;34m>=\u001b[0m \u001b[0m_MAXCACHE\u001b[0m\u001b[0;34m:\u001b[0m\u001b[0;34m\u001b[0m\u001b[0m\n\u001b[1;32m    247\u001b[0m         \u001b[0m_cache\u001b[0m\u001b[0;34m.\u001b[0m\u001b[0mclear\u001b[0m\u001b[0;34m(\u001b[0m\u001b[0;34m)\u001b[0m\u001b[0;34m\u001b[0m\u001b[0m\n",
      "\u001b[0;31merror\u001b[0m: unbalanced parenthesis"
     ]
    }
   ],
   "source": [
    "string = 'What!? :) U fink im flirtin wit *u*!? LOL'\n",
    "# define a regex:\n",
    "regex = re.compile(r':)')\n",
    "re.findall(regex, string)"
   ]
  },
  {
   "cell_type": "markdown",
   "metadata": {},
   "source": [
    "What happened? Well, if you want to search for any special character, it must be 'escaped' by a backslash:"
   ]
  },
  {
   "cell_type": "code",
   "execution_count": 87,
   "metadata": {
    "collapsed": false
   },
   "outputs": [
    {
     "data": {
      "text/plain": [
       "[':)']"
      ]
     },
     "execution_count": 87,
     "metadata": {},
     "output_type": "execute_result"
    }
   ],
   "source": [
    "string = 'What!? :) U fink im flirtin wit *u*!? LOL'\n",
    "# define a regex:\n",
    "regex = re.compile(r':\\)')\n",
    "re.findall(regex, string)"
   ]
  },
  {
   "cell_type": "markdown",
   "metadata": {},
   "source": [
    "Regular expressions take a while to master, but have great benefits for searching large texts for very specific things. Here are some additional regex resources:\n",
    "\n",
    "* [Regex Info](http://www.regular-expressions.info/): tutorials etc.\n",
    "* [Regexr](http://www.regexr.com/): a place to build and test out your regex\n",
    "* [Regex crosswords](http://regexcrossword.com/): exactly what you think it is!"
   ]
  },
  {
   "cell_type": "markdown",
   "metadata": {},
   "source": [
    "The code below will get any word over *minlength* alphabetic characters by passing an integer into a regex."
   ]
  },
  {
   "cell_type": "code",
   "execution_count": 88,
   "metadata": {
    "collapsed": false
   },
   "outputs": [
    {
     "data": {
      "text/plain": [
       "['democratically',\n",
       " 'elected',\n",
       " 'leaders',\n",
       " 'people',\n",
       " 'hereby',\n",
       " 'declare',\n",
       " 'Kosovo',\n",
       " 'independent',\n",
       " 'sovereign',\n",
       " 'state']"
      ]
     },
     "execution_count": 88,
     "metadata": {},
     "output_type": "execute_result"
    }
   ],
   "source": [
    "minlength = 5  # minimum number of letters as integer \n",
    "# gets passed into the building of the regex\n",
    "sentence = 'We, the democratically-elected leaders of our people, hereby declare Kosovo to be an independent and sovereign state'\n",
    "\n",
    "# any letter, minlength times:\n",
    "pattern = re.compile(r'[A-Za-z]{' + str(minlength) + ',}') \n",
    "# What happens if you add a hyphen after 'a-z' inside the square brackets above?\n",
    "re.findall(pattern, sentence)"
   ]
  },
  {
   "cell_type": "markdown",
   "metadata": {},
   "source": [
    "## Sentence segmentation"
   ]
  },
  {
   "cell_type": "markdown",
   "metadata": {},
   "source": [
    "So, with a basic understanding of regex, we can now start to turn our corpus into a structured resource. At present, we have 'raw', a very, very long string of text.\n",
    "\n",
    " We should break the string into segments. First, we'll split the corpus into sentences. This task is a pretty boring one, and it's tough for us to improve on existing resources. We'll try, though.\n",
    "\n",
    "Let's define a sentence as any string ending with (one or more) newline, full stop, question mark, or exclamation mark. A regex can be written to find these, and the split() function can  be used to break the string into a list of strings."
   ]
  },
  {
   "cell_type": "code",
   "execution_count": 89,
   "metadata": {
    "collapsed": false
   },
   "outputs": [
    {
     "name": "stdout",
     "output_type": "stream",
     "text": [
      "Sentence: no greens-win, many of us right wingers want to stay the hell out of the middle east\n",
      "Sentence: .\n",
      "Sentence:  nothing is going to stop that sh\n",
      "Sentence: .\n",
      "Sentence: thole of the world from tearing each others' throats out\n",
      "Sentence: \n",
      "\n",
      "Sentence: after all, they have been doing it successfully for centuries\n",
      "Sentence: \n",
      "\n",
      "Sentence: then you better start educating your hard right mates about greens' renewable energy\n",
      "Sentence: .\n"
     ]
    }
   ],
   "source": [
    "import re\n",
    "sentences = re.split(\"(\\n|\\.|\\?|!)+\", raw)\n",
    "print 'Sentence: ' + '\\nSentence: '.join(sentences[:10]) # print the first ten sentences"
   ]
  },
  {
   "cell_type": "markdown",
   "metadata": {},
   "source": [
    "Well, it worked, sort of. What problems do we have?\n",
    "\n",
    "1. sh.thole was split\n",
    "2. Empty matches/punctuation only matches\n",
    "\n",
    "So, to fix our first problem, we have to make an intpretative decision. Is *sh.thole* a word? We could:\n",
    "\n",
    "1. Clean the corpus and remove this false positive\n",
    "2. Define sentence differently\n",
    "\n",
    "We'll go with the second option, for better or worse. The regex in the code below makes sure that any sentence final character must not be followed by a letter."
   ]
  },
  {
   "cell_type": "code",
   "execution_count": 90,
   "metadata": {
    "collapsed": false
   },
   "outputs": [
    {
     "name": "stdout",
     "output_type": "stream",
     "text": [
      "Sentence: no greens-win, many of us right wingers want to stay the hell out of the middle east\n",
      "Sentence:  \n",
      "Sentence: nothing is going to stop that sh.thole of the world from tearing each others' throats out\n",
      "Sentence: \n",
      "\n",
      "Sentence: after all, they have been doing it successfully for centuries\n",
      "Sentence: \n",
      "\n",
      "Sentence: then you better start educating your hard right mates about greens' renewable energy\n",
      "Sentence:  \n",
      "Sentence: sooner we end our addiction to arab oil and middle eastern exports, like live animals, the sooner we can distance ourselves\n",
      "Sentence: \n",
      "\n"
     ]
    }
   ],
   "source": [
    "sentences = re.split(\"(?:\\n|\\.|\\?|!)+([^a-zA-Z]|$)\", raw)\n",
    "print 'Sentence: ' + '\\nSentence: '.join(sentences[:10])"
   ]
  },
  {
   "cell_type": "markdown",
   "metadata": {},
   "source": [
    "Problem 1 is solved: *sh.thole* is now a single token. To fix Problem 2, we will remove list items not containing a letter, as any sentence must contain at least one by definition."
   ]
  },
  {
   "cell_type": "code",
   "execution_count": 91,
   "metadata": {
    "collapsed": false
   },
   "outputs": [
    {
     "name": "stdout",
     "output_type": "stream",
     "text": [
      "Sentence: no greens-win, many of us right wingers want to stay the hell out of the middle east\n",
      "Sentence: nothing is going to stop that sh.thole of the world from tearing each others' throats out\n",
      "Sentence: after all, they have been doing it successfully for centuries\n",
      "Sentence: then you better start educating your hard right mates about greens' renewable energy\n",
      "Sentence: sooner we end our addiction to arab oil and middle eastern exports, like live animals, the sooner we can distance ourselves\n",
      "Sentence: i am not saying that all muslims are like this\n",
      "Sentence: however, i am saying that many, many of them are\n",
      "Sentence: they are flying under the radar and getting strong, just like hitler's storm troopers before little adolph rose to power\n",
      "Sentence: sensationalist right\n",
      "Sentence: no one thought much about little adolph and his brown shirted followers, until they stormed to power, whilst the do gooders stood by and tut tutted\n",
      "Sentence: if you are a student of history you can see exactly what is happening here\n",
      "Sentence: soon it will be too late, it most probably already is\n",
      "Sentence: just when sydney-siders thought it was safe to close their eyes and go to sleep for a night, pondering the lack of evening gun battles lately, they learn of something worse than drive by shootings\n",
      "Sentence: as they woke to another days work the people of sydney [and melbourne] learned of a joint operation between their states police forces and the australian federal police, against an imminent terrorist attack in their cities\n",
      "Sentence: four men - all australian citizens - were arrested this morning as federal and state police, armed with search warrants, swooped on members of the suspected terror cell this morning in the second-largest counter-terrorism operation in the nation's history",
      "\n",
      "Sentence: about 400 police raided homes in the northern melbourne suburbs of glenroy, meadow heights, roxburgh park, broadmeadows, westmeadows, preston and epping\n",
      "Sentence: they also raided homes at carlton in inner melbourne and colac in southwestern victoria\n",
      "Sentence: it is understood the men plan to kill as many soldiers as possible before they are themselves killed\n",
      "Sentence: members of the group have been observed carrying out surveillance of holsworthy barracks in western sydney and other suspicious activity around defence bases in victoria\n",
      "Sentence: electronic surveillance on the suspects is believed to have picked up discussions about ways to obtain weapons to carry out what would be the worst terror attack on australian soil\n"
     ]
    }
   ],
   "source": [
    "regex = re.compile('[a-zA-Z]')\n",
    "no_blanklines = [sentence for sentence in sentences if regex.match(sentence)]\n",
    "# or, an alternative approach using filter function:\n",
    "# no_blanklines = filter(regex.match, sentences)\n",
    "print 'Sentence: ' + '\\nSentence: '.join(no_blanklines[:20]) # this should be better!"
   ]
  },
  {
   "cell_type": "markdown",
   "metadata": {},
   "source": [
    "The code below turns out sentence segmenter into a function."
   ]
  },
  {
   "cell_type": "code",
   "execution_count": 92,
   "metadata": {
    "collapsed": false
   },
   "outputs": [],
   "source": [
    "def sent_seg(string):\n",
    "    allmatches = re.split(\"(?:\\n|\\.|\\?|!)+([^a-zA-Z]|$)\", string)\n",
    "    regex = re.compile('[a-zA-Z]')\n",
    "    sentences = [sentence for sentence in allmatches if regex.match(sentence)]\n",
    "    length = len(sentences)\n",
    "    return sentences"
   ]
  },
  {
   "cell_type": "code",
   "execution_count": 93,
   "metadata": {
    "collapsed": false
   },
   "outputs": [],
   "source": [
    "# Call the segmenter on our raw text here. Store it in a variable called 'sents'\n",
    "sents = sent_seg(raw)"
   ]
  },
  {
   "cell_type": "markdown",
   "metadata": {},
   "source": [
    "It's all academic, anyway: NLTK actually has a sentence segmenter built in that works better than ours (we didn't deal with quotation marks, or brackets, for example)."
   ]
  },
  {
   "cell_type": "code",
   "execution_count": 94,
   "metadata": {
    "collapsed": false
   },
   "outputs": [
    {
     "data": {
      "text/plain": [
       "[u'post some better information.',\n",
       " u\"there's been hundreds in iraq alone.\",\n",
       " u'the iraq terrorist attacks are reported.',\n",
       " u\"you need to look harder:\\njihadists issuing their warning that the beheadings will continue if the u.s. continues to support the kurdshours after shocking world with desert execution of 300 syrian soldiers, isis parade kurds dressed in guantanamo-style suits, behead one and promise to kill them all unless usa pull out of iraq\\nsurvivor: mohammed, whose name has been changed out of fears for his safety, was forced to attend an islamic state children's campsurvivor of isis children's camp reveals how young boys are whipped and made to watch men being crucified and women stoned to death\\nin the last 10 or 15 years, most of (more than half) the terror attacks/deaths have been the result of islamic extremists.\",\n",
       " u'in the last 10 to 15 years, most (more than half) terrorist attacks have been carried out by non-muslims.',\n",
       " u\"i've already provided the proof of this.\",\n",
       " u\"if you refuse to believe, that's your problem.\",\n",
       " u'go on crossing the road every time you see a muslim on your side of the street, if that makes you feel safer.',\n",
       " u\"no, actually you have not..your 'proof' ends in 2005, which is 9 years ago..how many non-mulim terror attacks happened between 2005 and 2014, and how many muslim terror attacks happened in the same period??\",\n",
       " u'well just for the july section of that wiki link, about 26 out of 31 attacks were muslim inspired attacks.']"
      ]
     },
     "execution_count": 94,
     "metadata": {},
     "output_type": "execute_result"
    }
   ],
   "source": [
    "sent_tokenizer=nltk.data.load('tokenizers/punkt/english.pickle')\n",
    "sents = sent_tokenizer.tokenize(raw)\n",
    "sents[101:111]"
   ]
  },
  {
   "cell_type": "markdown",
   "metadata": {},
   "source": [
    "Alright, we have sentences. Now what?"
   ]
  },
  {
   "cell_type": "markdown",
   "metadata": {},
   "source": [
    "## Tokenisation"
   ]
  },
  {
   "cell_type": "markdown",
   "metadata": {},
   "source": [
    "Tokenisation is simply the process of breaking texts down into words. We already did a little bit of this in Session 1. We won't build our own tokenizer, because it's not much fun. NLTK has one we can rely on.\n",
    "\n",
    "Keep in mind that definitions of tokens are not standardised, especially for languages other than English. Serious problems arise when comparing two corpora that have been tokenised differently.\n",
    "\n",
    "> **Note:** It is also possible to use NLTK to break tokens into morphemes, syllables, or phonemes. We're not going to go down those roads, though."
   ]
  },
  {
   "cell_type": "code",
   "execution_count": 98,
   "metadata": {
    "collapsed": false
   },
   "outputs": [
    {
     "data": {
      "text/plain": [
       "[[u'no',\n",
       "  u'greens-win',\n",
       "  u',',\n",
       "  u'many',\n",
       "  u'of',\n",
       "  u'us',\n",
       "  u'right',\n",
       "  u'wingers',\n",
       "  u'want',\n",
       "  u'to',\n",
       "  u'stay',\n",
       "  u'the',\n",
       "  u'hell',\n",
       "  u'out',\n",
       "  u'of',\n",
       "  u'the',\n",
       "  u'middle',\n",
       "  u'east',\n",
       "  u'.'],\n",
       " [u'nothing',\n",
       "  u'is',\n",
       "  u'going',\n",
       "  u'to',\n",
       "  u'stop',\n",
       "  u'that',\n",
       "  u'sh.thole',\n",
       "  u'of',\n",
       "  u'the',\n",
       "  u'world',\n",
       "  u'from',\n",
       "  u'tearing',\n",
       "  u'each',\n",
       "  u'others',\n",
       "  u\"'\",\n",
       "  u'throats',\n",
       "  u'out',\n",
       "  u'.'],\n",
       " [u'after',\n",
       "  u'all',\n",
       "  u',',\n",
       "  u'they',\n",
       "  u'have',\n",
       "  u'been',\n",
       "  u'doing',\n",
       "  u'it',\n",
       "  u'successfully',\n",
       "  u'for',\n",
       "  u'centuries',\n",
       "  u'.']]"
      ]
     },
     "execution_count": 98,
     "metadata": {},
     "output_type": "execute_result"
    }
   ],
   "source": [
    "tokenized_sents = [nltk.word_tokenize(i) for i in sents]\n",
    "tokenized_sents[:3]\n",
    "# another view:\n",
    "# print tokenized_sents[:10]"
   ]
  },
  {
   "cell_type": "markdown",
   "metadata": {},
   "source": [
    "## Stemming"
   ]
  },
  {
   "cell_type": "markdown",
   "metadata": {},
   "source": [
    "Stemming is the task of finding the stem of a word. So, *cats --> cat*, or *taking --> take*. It is an important task when counting words, as often the counting each inflection seperately is not particuarly helpful: forms of the verb 'to be' might seem under-represented if we could *is, are, were, was, am, be, being, been* separately. \n",
    "\n",
    "NLTK has pre-programmed stemmers, but we can build our own using some of the skills we've already learned.\n",
    "\n",
    "A stemmer is the kind of thing that would make a good function, so let's do that."
   ]
  },
  {
   "cell_type": "code",
   "execution_count": 99,
   "metadata": {
    "collapsed": false
   },
   "outputs": [],
   "source": [
    "def stem(word):\n",
    "    for suffix in ['ing', 'ly', 'ed', 'ious', 'ies', 'ive', 'es', 's', 'ment']: # list of suffixes\n",
    "        if word.endswith(suffix):\n",
    "            return word[:-len(suffix)] # delete the suffix\n",
    "    return word"
   ]
  },
  {
   "cell_type": "markdown",
   "metadata": {},
   "source": [
    "Let's run it over some text and see how it performs."
   ]
  },
  {
   "cell_type": "code",
   "execution_count": 100,
   "metadata": {
    "collapsed": false
   },
   "outputs": [
    {
     "data": {
      "text/plain": [
       "[[u'no',\n",
       "  u'greens-win',\n",
       "  u',',\n",
       "  u'many',\n",
       "  u'of',\n",
       "  u'u',\n",
       "  u'right',\n",
       "  u'winger',\n",
       "  u'want',\n",
       "  u'to',\n",
       "  u'stay',\n",
       "  u'the',\n",
       "  u'hell',\n",
       "  u'out',\n",
       "  u'of',\n",
       "  u'the',\n",
       "  u'middle',\n",
       "  u'east',\n",
       "  u'.'],\n",
       " [u'noth',\n",
       "  u'i',\n",
       "  u'go',\n",
       "  u'to',\n",
       "  u'stop',\n",
       "  u'that',\n",
       "  u'sh.thole',\n",
       "  u'of',\n",
       "  u'the',\n",
       "  u'world',\n",
       "  u'from',\n",
       "  u'tear',\n",
       "  u'each',\n",
       "  u'other',\n",
       "  u\"'\",\n",
       "  u'throat',\n",
       "  u'out',\n",
       "  u'.'],\n",
       " [u'after',\n",
       "  u'all',\n",
       "  u',',\n",
       "  u'they',\n",
       "  u'have',\n",
       "  u'been',\n",
       "  u'do',\n",
       "  u'it',\n",
       "  u'successful',\n",
       "  u'for',\n",
       "  u'centur',\n",
       "  u'.'],\n",
       " [u'then',\n",
       "  u'you',\n",
       "  u'better',\n",
       "  u'start',\n",
       "  u'educat',\n",
       "  u'your',\n",
       "  u'hard',\n",
       "  u'right',\n",
       "  u'mat',\n",
       "  u'about',\n",
       "  u'green',\n",
       "  u\"'\",\n",
       "  u'renewable',\n",
       "  u'energy',\n",
       "  u'.'],\n",
       " [u'sooner',\n",
       "  u'we',\n",
       "  u'end',\n",
       "  u'our',\n",
       "  u'addiction',\n",
       "  u'to',\n",
       "  u'arab',\n",
       "  u'oil',\n",
       "  u'and',\n",
       "  u'middle',\n",
       "  u'eastern',\n",
       "  u'export',\n",
       "  u',',\n",
       "  u'like',\n",
       "  u'l',\n",
       "  u'animal',\n",
       "  u',',\n",
       "  u'the',\n",
       "  u'sooner',\n",
       "  u'we',\n",
       "  u'can',\n",
       "  u'distance',\n",
       "  u'ourselv',\n",
       "  u'.'],\n",
       " [u'i',\n",
       "  u'am',\n",
       "  u'not',\n",
       "  u'say',\n",
       "  u'that',\n",
       "  u'all',\n",
       "  u'muslim',\n",
       "  u'are',\n",
       "  u'like',\n",
       "  u'thi',\n",
       "  u'.'],\n",
       " [u'however',\n",
       "  u',',\n",
       "  u'i',\n",
       "  u'am',\n",
       "  u'say',\n",
       "  u'that',\n",
       "  u'many',\n",
       "  u',',\n",
       "  u'many',\n",
       "  u'of',\n",
       "  u'them',\n",
       "  u'are',\n",
       "  u'.'],\n",
       " [u'they',\n",
       "  u'are',\n",
       "  u'fly',\n",
       "  u'under',\n",
       "  u'the',\n",
       "  u'radar',\n",
       "  u'and',\n",
       "  u'gett',\n",
       "  u'strong',\n",
       "  u',',\n",
       "  u'just',\n",
       "  u'like',\n",
       "  u'hitler',\n",
       "  u\"'\",\n",
       "  u'storm',\n",
       "  u'trooper',\n",
       "  u'before',\n",
       "  u'little',\n",
       "  u'adolph',\n",
       "  u'rose',\n",
       "  u'to',\n",
       "  u'power',\n",
       "  u'.'],\n",
       " [u'sensationalist', u'right', u'?'],\n",
       " [u'no',\n",
       "  u'one',\n",
       "  u'thought',\n",
       "  u'much',\n",
       "  u'about',\n",
       "  u'little',\n",
       "  u'adolph',\n",
       "  u'and',\n",
       "  u'hi',\n",
       "  u'brown',\n",
       "  u'shirt',\n",
       "  u'follower',\n",
       "  u',',\n",
       "  u'until',\n",
       "  u'they',\n",
       "  u'storm',\n",
       "  u'to',\n",
       "  u'power',\n",
       "  u',',\n",
       "  u'whilst',\n",
       "  u'the',\n",
       "  u'do',\n",
       "  u'gooder',\n",
       "  u'stood',\n",
       "  u'by',\n",
       "  u'and',\n",
       "  u'tut',\n",
       "  u'tutt',\n",
       "  u'.']]"
      ]
     },
     "execution_count": 100,
     "metadata": {},
     "output_type": "execute_result"
    }
   ],
   "source": [
    "# empty list for our output\n",
    "stemmed_sents = []\n",
    "for sent in tokenized_sents:\n",
    "    # empty list for stemmed sentence:\n",
    "    stemmed = []\n",
    "    for word in sent:\n",
    "        # append the stem of every word\n",
    "        stemmed.append(stem(word))\n",
    "    # append the stemmed sentence to the list of sentences\n",
    "    stemmed_sents.append(stemmed)\n",
    "# pretty print the output\n",
    "stemmed_sents[:10]"
   ]
  },
  {
   "cell_type": "markdown",
   "metadata": {},
   "source": [
    "Looking at the output, we can see that the stemmer works: *wingers* becomes *winger*, and *tearing* becomes *tear*. But, sometimes it does things we don't want: *Nothing* becomes *noth*, and *mate* becomes *mat*. Even so, for the learns, let's rewrite our function with a regex:"
   ]
  },
  {
   "cell_type": "code",
   "execution_count": 101,
   "metadata": {
    "collapsed": false
   },
   "outputs": [],
   "source": [
    "def stem(word):\n",
    "    import re\n",
    "    # define a regex to get word, and common suffixes\n",
    "    regex = r'^(.*?)(ing|ly|ed|ious|ies|ive|es|s|ment)?$'\n",
    "    stem, suffix = re.findall(regex, word)[0]\n",
    "    return stem"
   ]
  },
  {
   "cell_type": "markdown",
   "metadata": {},
   "source": [
    "Because we just redefined the *stem()* function, we can run the previous code and get different results."
   ]
  },
  {
   "cell_type": "markdown",
   "metadata": {},
   "source": [
    "Here's a very quick implementation of our stemmer on our raw tokens:"
   ]
  },
  {
   "cell_type": "code",
   "execution_count": 102,
   "metadata": {
    "collapsed": false
   },
   "outputs": [
    {
     "name": "stdout",
     "output_type": "stream",
     "text": [
      "[u'no', u'greens-win', u',', u'many', u'of', u'u', u'right', u'winger', u'want', u'to', u'stay', u'the', u'hell', u'out', u'of', u'the', u'middle', u'east', u'.', u'noth', u'i', u'go', u'to', u'stop', u'that', u'sh.thole', u'of', u'the', u'world', u'from', u'tear', u'each', u'other', u\"'\", u'throat', u'out', u'.', u'after', u'all', u',', u'they', u'have', u'been', u'do', u'it', u'successful', u'for', u'centur', u'.', u'then']\n"
     ]
    }
   ],
   "source": [
    "tokens = nltk.word_tokenize(raw)\n",
    "stemmed = [stem(t) for t in tokens]\n",
    "print stemmed[:50]"
   ]
  },
  {
   "cell_type": "markdown",
   "metadata": {},
   "source": [
    "We can see that this approach has obvious limitations. So, let's rely on a purpose-built stemmer. These rely in part on dictionaries. Note the subtle differences between the two possible stemmers:"
   ]
  },
  {
   "cell_type": "code",
   "execution_count": 103,
   "metadata": {
    "collapsed": false
   },
   "outputs": [
    {
     "name": "stdout",
     "output_type": "stream",
     "text": [
      "[u'no', u'greens-win', u',', u'many', u'of', u'us', u'right', u'wing', u'want', u'to', u'stay', u'the', u'hel', u'out', u'of', u'the', u'middl', u'east', u'.', u'noth', u'is', u'going', u'to', u'stop', u'that', u'sh.thole', u'of', u'the', u'world', u'from', u'tear', u'each', u'oth', u\"'\", u'throats', u'out', u'.', u'aft', u'al', u',', u'they', u'hav', u'been', u'doing', u'it', u'success', u'for', u'century', u'.', u'then', u'you', u'bet', u'start', u'educ', u'yo', u'hard', u'right', u'mat', u'about', u'green', u\"'\", u'renew', u'energy', u'.', u'soon', u'we', u'end', u'our', u'addict', u'to', u'arab', u'oil', u'and', u'middl', u'eastern', u'export', u',', u'lik', u'liv', u'anim', u',', u'the', u'soon', u'we', u'can', u'dist', u'ourselv', u'.', u'i', u'am', u'not', u'say', u'that', u'al', u'muslim', u'ar', u'lik', u'thi', u'.', u'howev']\n"
     ]
    }
   ],
   "source": [
    "# define stemmers\n",
    "lancaster = nltk.LancasterStemmer()\n",
    "porter = nltk.PorterStemmer()\n",
    "# stem each word in tokens\n",
    "stems = [lancaster.stem(t) for t in tokens]  # replace lancaster with porter here\n",
    "print stems[:100]"
   ]
  },
  {
   "cell_type": "markdown",
   "metadata": {},
   "source": [
    "Notice that both stemmers handle some things rather poorly. The main reason for this is that they are not aware of the *word class* of any particular word: *nothing* is a noun, and nouns ending in *ing* should not have *ing* removed by the stemmer (swing, bling, ring...). Later in the course, we'll start annotating corpora with grammatical information. This improves the accuracy of stemmers a lot.\n",
    "\n",
    "> Note: stemming is not *always* the best thing to do: though *thing* is the stem of *things*, things has a unique meaning, as in *things will improve*. If we are interested in vague language, we may not want to collapse things --> thing."
   ]
  },
  {
   "cell_type": "markdown",
   "metadata": {},
   "source": [
    "## Keywording: 'the aboutness of a text'"
   ]
  },
  {
   "cell_type": "markdown",
   "metadata": {},
   "source": [
    "Keywording is the process of generating a list of words that are unusually frequent in the corpus of interest. To do it, you need a *reference corpus*, or at least a *reference wordlist* to which your *target corpus* can be compared. Often, *reference corpora* take the form of very large collections of language drawn from a variety of spoken and written sources.\n",
    "\n",
    "Keywording is what generates word-clouds beside online news stories, blog posts, and the like. In combination with speech-to-text, it's used in Oxford University's [Spindle Project](http://openspires.oucs.ox.ac.uk/spindle/) to automatically archive recorded lectures with useful tags.\n",
    "\n",
    "In fact, the keywording part of the Spindle Project is written in Python, and in open source.\n",
    "\n",
    "Spindle has sensible defaults for keyword calculation. Let's download their code and use it to generate keywords from our corpus."
   ]
  },
  {
   "cell_type": "code",
   "execution_count": 108,
   "metadata": {
    "collapsed": false
   },
   "outputs": [],
   "source": [
    "import sys\n",
    " # download spindle from github\n",
    "#!wget https://github.com/sgrau/spindle-code/archive/master.zip\n",
    "#!unzip master.zip # unzip it\n",
    "#!rm master.zip # remove the zip file\n",
    "# put the keyworder directory in python's path, so we can call it easily\n",
    "sys.path.insert(0, '../spindle-code-master/keywords')\n",
    "# import the function\n",
    "from keywords import keywords_and_ngrams # import keywords function"
   ]
  },
  {
   "cell_type": "code",
   "execution_count": 109,
   "metadata": {
    "collapsed": false
   },
   "outputs": [
    {
     "data": {
      "text/plain": [
       "([('isis', 932.9607164734134),\n",
       "  ('terrorist', 680.0627712571667),\n",
       "  ('muslim', 568.1485501205741),\n",
       "  ('muslims', 563.6329400959509),\n",
       "  ('genocide', 403.87716664798927),\n",
       "  ('iraq', 368.89945131193144),\n",
       "  ('attacks', 329.7408713036507),\n",
       "  ('isil', 319.17077142511516),\n",
       "  ('australian', 259.15906336931),\n",
       "  ('moslems', 227.71717950005285),\n",
       "  ('middle', 215.35707761243663),\n",
       "  ('military', 209.018280568296),\n",
       "  ('islamic', 207.24581015696876),\n",
       "  ('syria', 180.6355631540565),\n",
       "  ('shale', 171.86118461352353),\n",
       "  ('australians', 159.9616861419146),\n",
       "  ('uncle', 158.41771696231382),\n",
       "  ('east', 145.0887037296805),\n",
       "  ('arab', 132.27103092059374),\n",
       "  ('australia', 127.06952540132508),\n",
       "  ('western', 122.79035271023501),\n",
       "  ('war', 119.27467665652489),\n",
       "  ('oil', 115.0476986960435),\n",
       "  ('anzac', 110.4821901086937),\n",
       "  ('abbott', 104.58287134344383),\n",
       "  ('islam', 104.58287134344383),\n",
       "  ('jihad', 100.05977238095869),\n",
       "  ('foreign', 99.3697059634182),\n",
       "  ('obama', 98.20639120772773),\n",
       "  ('terror', 97.86297888925839),\n",
       "  ('moslem', 94.45119841477964),\n",
       "  ('terrorism', 89.17225935572746),\n",
       "  ('majority', 87.9223632228362),\n",
       "  ('jihadists', 85.93059230676177),\n",
       "  ('carried', 80.43381339333962),\n",
       "  ('kurds', 76.4045278832614),\n",
       "  ('troops', 75.77692827109284),\n",
       "  ('syrian', 73.72627700497003),\n",
       "  ('wiki', 73.6547934057958),\n",
       "  ('karnal', 73.6547934057958),\n",
       "  ('assad', 67.91748852952678),\n",
       "  ('vietnam', 67.51640653595446),\n",
       "  ('three', 67.3920497947377),\n",
       "  ('condemn', 64.73920211041637),\n",
       "  ('saudis', 64.66607825143228),\n",
       "  ('asio', 61.37899450482983),\n",
       "  ('taliban', 61.37899450482983),\n",
       "  ('jihadist', 61.37899450482983),\n",
       "  ('rooty', 61.37899450482983),\n",
       "  ('invasion', 60.96721684366244),\n",
       "  ('fighting', 59.8580697035693),\n",
       "  ('threat', 59.20256212374142),\n",
       "  ('killing', 58.0443397501277),\n",
       "  ('passports', 57.732616848767606),\n",
       "  ('ira', 55.976583578202884),\n",
       "  ('enemies', 53.433667761227994),\n",
       "  ('security', 50.82137859219669),\n",
       "  ('ideology', 49.36097832720489),\n",
       "  ('drones', 49.10319560386387),\n",
       "  ('karmal', 49.10319560386387),\n",
       "  ('lefties', 49.10319560386387),\n",
       "  ('beheading', 49.10319560386387),\n",
       "  ('sunni', 49.10319560386387),\n",
       "  ('labor', 49.10319560386387),\n",
       "  ('religious', 47.444768658753205),\n",
       "  ('wars', 47.33576964759126),\n",
       "  ('countries', 46.65747986034412),\n",
       "  ('substantiate', 46.24673273695559),\n",
       "  ('committed', 45.51612742983676),\n",
       "  ('backed', 44.93632445575847),\n",
       "  ('sparky', 44.1034949482507),\n",
       "  ('innocents', 44.1034949482507),\n",
       "  ('history', 43.16715757964919),\n",
       "  ('religion', 42.57480085696655),\n",
       "  ('jets', 42.326805253672525),\n",
       "  ('asylum', 42.08790416596874),\n",
       "  ('fight', 41.82857731924522),\n",
       "  ('iran', 41.710084684781535),\n",
       "  ('leaders', 41.19227166942919),\n",
       "  ('iraqis', 40.833762483396),\n",
       "  ('actions', 40.59105996115727),\n",
       "  ('groups', 39.884723238245044),\n",
       "  ('snake', 39.36067154124294),\n",
       "  ('proven', 38.76806342214171),\n",
       "  ('saddam', 38.41886335529832),\n",
       "  ('passport', 38.204198079398964),\n",
       "  ('masse', 38.030135033979576),\n",
       "  ('unify', 38.030135033979576),\n",
       "  ('aussies', 38.030135033979576),\n",
       "  ('posted', 37.93220871605723),\n",
       "  ('uncles', 37.87026023538432),\n",
       "  ('greens', 37.406641701391884),\n",
       "  ('attack', 37.40552809603401),\n",
       "  ('send', 37.37425645173262),\n",
       "  ('innocent', 37.25255067358685),\n",
       "  ('fbi', 36.8273967028979),\n",
       "  ('genocides', 36.8273967028979),\n",
       "  ('militias', 36.8273967028979),\n",
       "  ('simpletons', 36.8273967028979),\n",
       "  ('islamism', 36.8273967028979)],\n",
       " [])"
      ]
     },
     "execution_count": 109,
     "metadata": {},
     "output_type": "execute_result"
    }
   ],
   "source": [
    "# this tool works with raw text, not tokens!\n",
    "keywords_and_ngrams(raw.encode(\"UTF-8\"), nBigrams = 0)"
   ]
  },
  {
   "cell_type": "markdown",
   "metadata": {},
   "source": [
    "Success! We have keywords.\n",
    "\n",
    "> Keep in mind, the BNC reference corpus was created before ISIS and ISIL existed. *Moslem/moslems* is a dispreferred spelling of Muslim, used more frequently in anti-Islamic discourse. Also, it's unlikely that a transcriber of the spoken BNC would choose the Moslem spelling. *Having an inappropriate reference corpus is a common methodological problem in discourse analytic work*.\n",
    "\n",
    "Our keywords would perhaps be better if they were stemmed. That shouldn't be too hard for us:"
   ]
  },
  {
   "cell_type": "code",
   "execution_count": 110,
   "metadata": {
    "collapsed": false
   },
   "outputs": [
    {
     "data": {
      "text/plain": [
       "([(u'hav', 2577.2391729903125),\n",
       "  (u'thi', 1346.8923521902836),\n",
       "  (u'wil', 1333.2407267751928),\n",
       "  (u'muslim', 1318.1826718352786),\n",
       "  (u'ter', 1204.7992871675763),\n",
       "  (u'ther', 855.6785218462702),\n",
       "  (u'lik', 840.5824471747591),\n",
       "  (u'peopl', 734.2505130292712),\n",
       "  (u'iraq', 727.6551224603245),\n",
       "  (u'islam', 647.6590735393164),\n",
       "  (u'middl', 631.2026788321116),\n",
       "  (u'wer', 625.233245862998),\n",
       "  (u'genocid', 624.4326750441066),\n",
       "  (u'wel', 617.3457316874758),\n",
       "  (u'aust', 602.5461652012494),\n",
       "  (u'tak', 550.5302236462675),\n",
       "  (u'stat', 543.3668943538402),\n",
       "  (u'oth', 540.1828580686496),\n",
       "  (u'moslem', 536.3688586889244),\n",
       "  (u'thes', 530.5059089053443),\n",
       "  (u'mor', 520.9796175169053),\n",
       "  (u'believ', 516.3577889787805),\n",
       "  (u'becaus', 511.9222637340656),\n",
       "  (u'syr', 492.3411476309303),\n",
       "  (u'mak', 476.66565252500186),\n",
       "  (u'unc', 468.3245062830801),\n",
       "  (u'milit', 432.2995442613047),\n",
       "  (u'austral', 432.2995442613047),\n",
       "  (u'thos', 423.01193695076114),\n",
       "  (u'kil', 411.16160224100577),\n",
       "  (u'nee', 397.40112987496485),\n",
       "  (u'wher', 394.5179064851052),\n",
       "  (u'attack', 393.4463601412146),\n",
       "  (u'som', 392.0014550355093),\n",
       "  (u'isil', 360.2496202177539),\n",
       "  (u'forc', 348.2412995438288),\n",
       "  (u'cal', 344.1415331197601),\n",
       "  (u'govern', 341.2884296009367),\n",
       "  (u'sint', 336.23297886990366),\n",
       "  (u'jihad', 321.5470633135355),\n",
       "  (u'war', 316.11735641739546),\n",
       "  (u'maj', 304.7345088694566),\n",
       "  (u'nat', 301.7732811152151),\n",
       "  (u'doe', 298.7286241160629),\n",
       "  (u'nev', 280.3159030633682),\n",
       "  (u'involv', 274.10773482733714),\n",
       "  (u'giv', 269.3775920756443),\n",
       "  (u'liv', 258.2052089158418),\n",
       "  (u'hap', 249.57131059706367),\n",
       "  (u'stil', 245.8516343396823),\n",
       "  (u'fight', 243.98381739954),\n",
       "  (u'themselv', 240.1664134785026),\n",
       "  (u'tel', 230.9243898411533),\n",
       "  (u'nam', 228.15809280457745),\n",
       "  (u'east', 225.55450704821703),\n",
       "  (u'noth', 223.46822855705932),\n",
       "  (u'bas', 220.71856723335938),\n",
       "  (u'arab', 211.17545134469452),\n",
       "  (u'hist', 210.6474088741099),\n",
       "  (u'tim', 207.09434075197777),\n",
       "  (u'howev', 196.4222648960316),\n",
       "  (u'anyth', 195.30741445872746),\n",
       "  (u'alway', 192.13313078280206),\n",
       "  (u'someon', 192.13313078280206),\n",
       "  (u'viol', 192.13313078280206),\n",
       "  (u'plac', 192.13313078280206),\n",
       "  (u'karn', 192.13313078280206),\n",
       "  (u'anzac', 192.13313078280206),\n",
       "  (u'polit', 187.24791702145257),\n",
       "  (u'someth', 187.24791702145257),\n",
       "  (u'littl', 184.5316592222187),\n",
       "  (u'ideolog', 180.12481010887694),\n",
       "  (u'becom', 180.12481010887694),\n",
       "  (u'commun', 179.5850613837629),\n",
       "  (u'cours', 172.64842005592521),\n",
       "  (u'solv', 172.64842005592521),\n",
       "  (u'shal', 167.81953721758165),\n",
       "  (u'leav', 167.81953721758165),\n",
       "  (u'relig', 160.77353165676774),\n",
       "  (u'commit', 157.74787115605832),\n",
       "  (u'diff', 155.71218379250402),\n",
       "  (u'und', 155.68884841401035),\n",
       "  (u'country', 154.09632384277575),\n",
       "  (u'def', 153.19093107422543),\n",
       "  (u'aft', 153.19093107422543),\n",
       "  (u'troop', 150.5317995766676),\n",
       "  (u'pol', 150.44419108131967),\n",
       "  (u'numb', 150.44419108131967),\n",
       "  (u'behead', 148.90818985145438),\n",
       "  (u'loc', 146.24050770847026),\n",
       "  (u'tru', 144.75336544859522),\n",
       "  (u'afgh', 144.09984808710158),\n",
       "  (u'religy', 144.09984808710158),\n",
       "  (u'innoc', 144.09984808710158),\n",
       "  (u'issu', 144.09984808710158),\n",
       "  (u'fac', 139.31483558853049),\n",
       "  (u'hom', 137.05386741366857),\n",
       "  (u'valu', 137.05386741366857),\n",
       "  (u'condemn', 136.30843789316174),\n",
       "  (u'min', 133.55639916381384)],\n",
       " [])"
      ]
     },
     "execution_count": 110,
     "metadata": {},
     "output_type": "execute_result"
    }
   ],
   "source": [
    "keywords_and_ngrams(stems, nBigrams = 0) # this will use our corpus of stems, as defined earlier."
   ]
  },
  {
   "cell_type": "markdown",
   "metadata": {},
   "source": [
    "Rats! Keywording with stems actually revealed a list of incorrect stems.\n",
    "\n",
    "What re really need to do is improve our stemmer, and then come back and try again."
   ]
  },
  {
   "cell_type": "markdown",
   "metadata": {},
   "source": [
    "## A return to stemming"
   ]
  },
  {
   "cell_type": "markdown",
   "metadata": {},
   "source": [
    "Keywords and ngram searches actually work by comparing a corpus to a reference corpus. In our case, we have been using a dictionary of words in the 100 million word *British National Corpus*. We could use this same dictionary to make sure our stemmer does not create non-words when it stems.\n",
    "\n",
    "First, let's get a list of common words in the BNC from the *pickle* provided by SPINDLE (*pickle* is a kind of list compression)."
   ]
  },
  {
   "cell_type": "code",
   "execution_count": 112,
   "metadata": {
    "collapsed": false
   },
   "outputs": [
    {
     "name": "stdout",
     "output_type": "stream",
     "text": [
      "['raining', 'woods', 'hanging', 'sevens', 'screaming', 'receiving', 'wooden', 'elgar', 'feasibility', 'errors', 'cooking', 'designing', 'china', 'kids', 'climbed', 'controversy', 'millimetres', 'golden', 'projection', 'music', 'populations', 'intake', 'morally', 'locked', 'locker', 'deputy', 'brochure', 'cookery', 'absolute', 'travel', 'playback', 'dinosaurs', 'wrong', 'promotion', 'opted', 'calculations', 'welcomed', 'aargh', 'playhouse', 'fir', 'fit', 'bringing', 'fif', 'wales', 'vouchers', 'effects', 'sixteen', 'barton', 'arrow', 'telescope', 'mason', 'encourage', 'adapt', 'estimate', 'chlorine', 'silent', 'husbands', 'disturbed', 'breed', 'specially', 'households', 'olds', 'service', 'needed', 'master', 'hiya', 'genesis', 'rewards', 'positively', 'regulator', 'idle', 'friend', 'feeling', 'spectrum', 'arousal', 'dozen', 'affairs', 'achievement', 'committing', 'mouth', 'bradford', 'singer', 'tech', 'thunder', 'scream', 'padded', 'tempted', 'cheaply', 'charges', 'rick', 'rich', 'rice', 'photographers', 'plate', 'plato', 'altogether', 'jaguar', 'cunnane', 'nicely', 'patch', 'clarified', 'sensitivity', 'lots', 'targets', 'letting', 'extend', 'nature', 'fruits', 'extent', 'heating', 'gypsies', 'salad', 'righteousness', 'union', 'fro', 'bothers', 'fry', 'spit', 'dave', 'doubts', 'spin', 'professionally', 'employ', 'eighteen', 'conditioner', 'memorial', 'ignored', 'split', 'boiled', 'qualifications', 'marched', 'boiler', 'supper', 'academic', 'corporate', 'plaque', 'criticism', 'appropriately', 'favours', 'fairer', 'ham', 'advantages', 'hat', 'hav', 'knock', 'elders', 'survival', 'credit', 'shadow', 'replace', 'semi', 'alice', 'beneficial', 'crowd', 'crown', 'bottom', 'binder', 'benches', 'maxwell', 'honeymoon', 'administer', 'beings', 'shoots', 'fabric', 'raped', 'humorous', 'waistcoat', 'safeguard', 'clause', 'complications', 'smashed', 'passenger', 'disgrace', 'mirror', 'females', 'hydrogen', 'triangles', 'role', 'roll', 'intend', 'transported', 'devon', 'intent', 'smelling', 'variable', 'filing', 'gown', 'chain', 'chair', 'ballet', 'circumstances', 'choice', 'embark', 'stays', 'exact', 'minute', 'cooks', 'meadow', 'chopping', 'shirts']\n"
     ]
    }
   ],
   "source": [
    "import pickle\n",
    "import os\n",
    "# unpack the pickled list\n",
    "bncwordlist = pickle.load(open('../spindle-code-master/keywords/bnc.p', 'rb')) \n",
    "bnc_commonwords = [] # empty list\n",
    "for word in bncwordlist:\n",
    "    getval = bncwordlist[word] # find out number of occurrences of word\n",
    "    if getval > 20: # if more than 20\n",
    "        bnc_commonwords.append(word) # add to common word list\n",
    "print bnc_commonwords[:200] # what are our results?"
   ]
  },
  {
   "cell_type": "markdown",
   "metadata": {},
   "source": [
    "So, this gives us a list of any word appearing more than twenty times in the BNC. We could build this function into our stemmer:"
   ]
  },
  {
   "cell_type": "code",
   "execution_count": 115,
   "metadata": {
    "collapsed": false
   },
   "outputs": [],
   "source": [
    "# Now, let's use this as the dict for our stemmer\n",
    "# The third variable sets a default threshold, but also allows us to enter one.\n",
    "def newstemmer(words, stemmer, threshold = 20):\n",
    "    \"\"\"A stemmer that uses Lancaster/porter stemmer plus a dictionary.\"\"\"\n",
    "    import pickle\n",
    "    import os\n",
    "    import nltk\n",
    "    bncwordlist = pickle.load(open('../spindle-code-master/keywords/bnc.p', 'rb'))\n",
    "    bnc_commonwords = {k for (k,v) in bncwordlist.iteritems() if v > threshold}\n",
    "    # if words is a raw string, tokenise it\n",
    "    if type(words) == unicode or type(words) == string:\n",
    "        tokens = nltk.word_tokenize(words)\n",
    "    # or, if list of tokens, duplicate the list\n",
    "    else:\n",
    "        tokens = words\n",
    "        # define stemmer based on the argument we passed in\n",
    "    if stemmer == 'Lancaster':\n",
    "        stemmertouse = nltk.LancasterStemmer()\n",
    "    if stemmer == 'Porter':\n",
    "        stemmertouse = nltk.PorterStemmer()\n",
    "    # empty list of stems\n",
    "    stems = []\n",
    "    for w in tokens:\n",
    "        # stem each word\n",
    "        stem = stemmertouse.stem(w)\n",
    "        # if the stem is in the bnc list\n",
    "        if stem in bnc_commonwords:\n",
    "            # add the stem\n",
    "            stems.append(stem)\n",
    "        else:\n",
    "            # or else, just add the word as it was\n",
    "            stems.append(w)\n",
    "    return stems"
   ]
  },
  {
   "cell_type": "markdown",
   "metadata": {},
   "source": [
    "Now, we can fiddle with the stemmer and BNC frequency to get different keyword lists."
   ]
  },
  {
   "cell_type": "code",
   "execution_count": 116,
   "metadata": {
    "collapsed": false
   },
   "outputs": [],
   "source": [
    "# try raising the threshold if there are still bad spellings!\n",
    "stemmed = newstemmer(raw, 'Lancaster', 10)"
   ]
  },
  {
   "cell_type": "code",
   "execution_count": 123,
   "metadata": {
    "collapsed": false
   },
   "outputs": [
    {
     "data": {
      "text/plain": [
       "[(u'hav', 2577.2391729903125),\n",
       " (u'thi', 1346.8923521902836),\n",
       " (u'muslim', 1318.1826718352786),\n",
       " (u'isis', 1188.8237467185877),\n",
       " (u'ther', 855.6785218462702),\n",
       " (u'iraq', 727.6551224603245),\n",
       " (u'terrorist', 674.3128151169033),\n",
       " (u'islam', 647.6590735393164),\n",
       " (u'wer', 625.233245862998),\n",
       " (u'wel', 617.3457316874758),\n",
       " (u'genocide', 560.0652863922269),\n",
       " (u'stat', 543.3668943538402),\n",
       " (u'oth', 540.1828580686496),\n",
       " (u'mor', 520.9796175169053),\n",
       " (u'nee', 397.40112987496485),\n",
       " (u'attack', 393.4463601412146),\n",
       " (u'som', 392.0014550355093),\n",
       " (u'moslems', 387.4739958606544),\n",
       " (u'isil', 360.2496202177539),\n",
       " (u'cal', 344.1415331197601),\n",
       " (u'syria', 344.1415331197601),\n",
       " (u'govern', 341.2884296009367),\n",
       " (u'war', 316.11735641739546),\n",
       " (u'nat', 301.7732811152151),\n",
       " (u'doe', 298.7286241160629),\n",
       " (u'nev', 280.3159030633682),\n",
       " (u'australian', 269.7418759536288),\n",
       " (u'fight', 243.98381739954),\n",
       " (u'australia', 231.05070809491767),\n",
       " (u'tel', 230.9243898411533),\n",
       " (u'east', 225.55450704821703),\n",
       " (u'noth', 223.46822855705932),\n",
       " (u'arab', 211.17545134469452),\n",
       " (u'military', 208.69619233567659),\n",
       " (u'tim', 207.09434075197777),\n",
       " (u'middle', 201.71357743731008),\n",
       " (u'uncle', 197.18452509719356),\n",
       " (u'karnal', 192.13313078280206),\n",
       " (u'shale', 168.11648943495183),\n",
       " (u'australians', 166.6753218685962),\n",
       " (u'terrorism', 159.97925879334724),\n",
       " (u'commit', 157.74787115605832),\n",
       " (u'anzac', 156.10816876102666),\n",
       " (u'diff', 155.71218379250402),\n",
       " (u'und', 155.68884841401035),\n",
       " (u'country', 154.09632384277575),\n",
       " (u'def', 153.19093107422543),\n",
       " (u'aft', 153.19093107422543),\n",
       " (u'troop', 150.5317995766676),\n",
       " (u'tru', 144.75336544859522),\n",
       " (u'moslem', 137.57772534869437),\n",
       " (u'condemn', 136.30843789316174),\n",
       " (u'min', 133.55639916381384),\n",
       " (u'carry', 132.91057012541958),\n",
       " (u'jihad', 132.62647722633608),\n",
       " (u'poss', 129.36944968276475),\n",
       " (u'pow', 129.36944968276475),\n",
       " (u'passport', 125.32465788745296),\n",
       " (u'western', 123.78270997271187),\n",
       " (u'abbott', 123.05833748209432),\n",
       " (u'bef', 122.14573044553956),\n",
       " (u'quest', 120.12877470542443),\n",
       " (u'vietnam', 117.14383642187602),\n",
       " (u'mat', 116.86169266125839),\n",
       " (u'saddam', 116.45555093218609),\n",
       " (u'terror', 113.99339059774294),\n",
       " (u'assad', 113.38615562322305),\n",
       " (u'oil', 108.39803216903326),\n",
       " (u'jihadists', 108.07488606532617),\n",
       " (u'obama', 108.07488606532617),\n",
       " (u'foreign', 107.52055937003291),\n",
       " (u'sid', 107.18197240109271),\n",
       " (u'hel', 107.07806833567096),\n",
       " (u'sur', 107.07806833567096),\n",
       " (u'fig', 103.80812252833603),\n",
       " (u'ideology', 102.1625025758401),\n",
       " (u'civil', 100.67567936787319),\n",
       " (u'cur', 99.05158218555404),\n",
       " (u'afghanistan', 98.94284127212582),\n",
       " (u'wiki', 96.06656539140103),\n",
       " (u'support', 94.35019266115847),\n",
       " (u'majority', 93.70199614754742),\n",
       " (u'bomb', 93.04668632404619),\n",
       " (u'enemy', 86.87177047310192),\n",
       " (u'prob', 86.4973277324538),\n",
       " (u'kurds', 86.06840297194726),\n",
       " (u'fin', 85.51581614416801),\n",
       " (u'gen', 84.55244761436641),\n",
       " (u'hum', 82.8143491556863),\n",
       " (u'wag', 80.60370679898753),\n",
       " (u'situ', 79.45206197576626),\n",
       " (u'three', 78.11106380682867),\n",
       " (u'saudis', 74.53341918574812),\n",
       " (u'mad', 73.01278799635159),\n",
       " (u'group', 72.06902065310108),\n",
       " (u'post', 72.05104277089957),\n",
       " (u'asio', 72.04992404355079),\n",
       " (u'fbi', 72.04992404355079),\n",
       " (u'taliban', 72.04992404355079),\n",
       " (u'jihadist', 72.04992404355079)]"
      ]
     },
     "execution_count": 123,
     "metadata": {},
     "output_type": "execute_result"
    }
   ],
   "source": [
    "keys, ngrams = keywords_and_ngrams(stemmed)\n",
    "keys # only keywords\n",
    " # only n-grams"
   ]
  },
  {
   "cell_type": "markdown",
   "metadata": {},
   "source": [
    "## Collocation"
   ]
  },
  {
   "cell_type": "markdown",
   "metadata": {},
   "source": [
    "> *You shall know a word by the company it keeps.* - J.R. Firth, 1957\n",
    "\n",
    "Collocation is a very common area of interest in corpus linguistics. Words pattern together in both expected and unexpected ways. In some contexts, *drug* and *medication* are synonymous, but it would be very rare to hear about *illicit* or *street medication*. Similarly, doctors are unlikely to prescribe the *correct* or *appropriate drug*.\n",
    "\n",
    "This kind of information may be useful to lexicographers, discourse analysts, or advanced language learners.\n",
    "\n",
    "In NLTK, collocation works from ordered lists of tokens. Let's put out tokenised sents into a single, huge list of tokens:"
   ]
  },
  {
   "cell_type": "code",
   "execution_count": 118,
   "metadata": {
    "collapsed": false
   },
   "outputs": [
    {
     "name": "stdout",
     "output_type": "stream",
     "text": [
      "[u'no', u'greens-win', u',', u'many', u'of', u'us', u'right', u'wingers', u'want', u'to', u'stay', u'the', u'hell', u'out', u'of', u'the', u'middle', u'east', u'.', u'nothing']\n"
     ]
    }
   ],
   "source": [
    "allwords = []\n",
    "# for each sentence,\n",
    "for sent in tokenized_sents:\n",
    "    # for each word,\n",
    "    for word in sent:\n",
    "        # make a list of all words\n",
    "        allwords.append(word)\n",
    "print allwords[:20]\n",
    "# small challenge: can you think of any other ways to do this?"
   ]
  },
  {
   "cell_type": "markdown",
   "metadata": {},
   "source": [
    "Now, let's feed these to an NLTK function for measuring collocations:"
   ]
  },
  {
   "cell_type": "code",
   "execution_count": 119,
   "metadata": {
    "collapsed": false
   },
   "outputs": [
    {
     "data": {
      "text/plain": [
       "[(u',', u'and'),\n",
       " (u',', u'but'),\n",
       " (u',', u'i'),\n",
       " (u',', u'the'),\n",
       " (u'.', u'and'),\n",
       " (u'.', u'i'),\n",
       " (u'.', u'if'),\n",
       " (u'.', u'it'),\n",
       " (u'.', u'the'),\n",
       " (u'.', u'we'),\n",
       " (u'.', u'you'),\n",
       " (u'?', u'?'),\n",
       " (u'and', u'the'),\n",
       " (u'do', u\"n't\"),\n",
       " (u'for', u'the'),\n",
       " (u'have', u'been'),\n",
       " (u'in', u'the'),\n",
       " (u'is', u'a'),\n",
       " (u'it', u\"'s\"),\n",
       " (u'it', u'is'),\n",
       " (u'middle', u'east'),\n",
       " (u'of', u'the'),\n",
       " (u'on', u'the'),\n",
       " (u'that', u'the'),\n",
       " (u'the', u'middle'),\n",
       " (u'the', u'us'),\n",
       " (u'the', u'world'),\n",
       " (u'they', u'are'),\n",
       " (u'to', u'be'),\n",
       " (u'to', u'the')]"
      ]
     },
     "execution_count": 119,
     "metadata": {},
     "output_type": "execute_result"
    }
   ],
   "source": [
    "# get all the functions needed for collocation work\n",
    "from nltk.collocations import *\n",
    "# define statistical tests for bigrams\n",
    "bigram_measures = nltk.collocations.BigramAssocMeasures()\n",
    "# go and find bigrams\n",
    "finder = BigramCollocationFinder.from_words(allwords)\n",
    "# measure which bigrams are important and print the top 30\n",
    "sorted(finder.nbest(bigram_measures.raw_freq, 30))"
   ]
  },
  {
   "cell_type": "markdown",
   "metadata": {},
   "source": [
    "So, that tells us a little: we can see that terrorists, Muslims and the Middle East are commonly collocating in the text. At present, we are only looking for immediately adjacent words. So, let's expand out search to a window of *five words either side*\n",
    "\n",
    "''window size'' specifies the distance at which \n",
    "two tokens can still be considered collocates\n",
    "finder = BigramCollocationFinder.from_words(allwords, window_size=5)\n",
    "sorted(finder.nbest(bigram_measures.raw_freq, 30))"
   ]
  },
  {
   "cell_type": "markdown",
   "metadata": {},
   "source": [
    "Now we have the appearance of very common words! Let's use NLTK's stopwords list to remove entries containing these:"
   ]
  },
  {
   "cell_type": "code",
   "execution_count": 120,
   "metadata": {
    "collapsed": false
   },
   "outputs": [
    {
     "data": {
      "text/plain": [
       "[(u'...', u'..'),\n",
       " (u'...', u'...'),\n",
       " (u'2001', u'carried'),\n",
       " (u'``', u\"''\"),\n",
       " (u'``', u'...'),\n",
       " (u'around', u'world'),\n",
       " (u'attacks', u'around'),\n",
       " (u'attacks', u'since'),\n",
       " (u'attacks', u'world'),\n",
       " (u'ca', u\"n't\"),\n",
       " (u'carried', u'non-muslims'),\n",
       " (u'etc', u'etc'),\n",
       " (u'iraq', u'syria'),\n",
       " (u'let', u\"'s\"),\n",
       " (u'majority', u'around'),\n",
       " (u'majority', u'attacks'),\n",
       " (u'majority', u'terrorist'),\n",
       " (u'middle', u'east'),\n",
       " (u\"n't\", u'know'),\n",
       " (u\"n't\", u'think'),\n",
       " (u'shale', u'oil'),\n",
       " (u'since', u'2001'),\n",
       " (u'spirit', u'anzac'),\n",
       " (u'syria', u'iraq'),\n",
       " (u'terrorist', u'around'),\n",
       " (u'terrorist', u'attacks'),\n",
       " (u'terrorist', u'groups'),\n",
       " (u'terrorist', u'world'),\n",
       " (u'world', u'2001'),\n",
       " (u'world', u'since')]"
      ]
     },
     "execution_count": 120,
     "metadata": {},
     "output_type": "execute_result"
    }
   ],
   "source": [
    "finder = BigramCollocationFinder.from_words(allwords, window_size=5)\n",
    "# get a list of stopwords from nltk\n",
    "ignored_words = nltk.corpus.stopwords.words('english')\n",
    "# make sure no part of the bigram is in stopwords\n",
    "finder.apply_word_filter(lambda w: len(w) < 2 or w.lower() in ignored_words)\n",
    "finder.apply_freq_filter(2)\n",
    "#print the sorted collocations\n",
    "sorted(finder.nbest(bigram_measures.raw_freq, 30))"
   ]
  },
  {
   "cell_type": "markdown",
   "metadata": {},
   "source": [
    "There! Now we have some interesting collocates. Finally, let's remove punctuation-only entries, or entries that are *n't*, as this is caused by different tokenisers:"
   ]
  },
  {
   "cell_type": "code",
   "execution_count": 121,
   "metadata": {
    "collapsed": false
   },
   "outputs": [
    {
     "data": {
      "text/plain": [
       "[(u'2001', u'carried'),\n",
       " (u'air', u'strikes'),\n",
       " (u'around', u'2001'),\n",
       " (u'around', u'since'),\n",
       " (u'around', u'world'),\n",
       " (u'attacks', u'around'),\n",
       " (u'attacks', u'carried'),\n",
       " (u'attacks', u'since'),\n",
       " (u'attacks', u'world'),\n",
       " (u'boots', u'ground'),\n",
       " (u'carried', u'non-muslims'),\n",
       " (u'etc', u'etc'),\n",
       " (u'foreign', u'policy'),\n",
       " (u'iraq', u'syria'),\n",
       " (u'majority', u'around'),\n",
       " (u'majority', u'attacks'),\n",
       " (u'majority', u'terrorist'),\n",
       " (u'middle', u'east'),\n",
       " (u'muslim', u'groups'),\n",
       " (u'shale', u'oil'),\n",
       " (u'since', u'2001'),\n",
       " (u'since', u'carried'),\n",
       " (u'spirit', u'anzac'),\n",
       " (u'syria', u'iraq'),\n",
       " (u'terrorist', u'around'),\n",
       " (u'terrorist', u'attacks'),\n",
       " (u'terrorist', u'groups'),\n",
       " (u'terrorist', u'world'),\n",
       " (u'world', u'2001'),\n",
       " (u'world', u'since')]"
      ]
     },
     "execution_count": 121,
     "metadata": {},
     "output_type": "execute_result"
    }
   ],
   "source": [
    "finder = BigramCollocationFinder.from_words(allwords, window_size=5)\n",
    "ignored_words = nltk.corpus.stopwords.words('english')\n",
    "# anything containing letter or number\n",
    "regex = r'[A-Za-z0-9]'\n",
    "# the n't token\n",
    "nonot = r'n\\'t'\n",
    "# lots of conditions!\n",
    "finder.apply_word_filter(lambda w: len(w) < 2 or w.lower() in ignored_words or not re.match(regex, w) or re.match(nonot, w))\n",
    "finder.apply_freq_filter(2)\n",
    "sorted(finder.nbest(bigram_measures.raw_freq, 30))"
   ]
  },
  {
   "cell_type": "markdown",
   "metadata": {},
   "source": [
    "You can get a lot more info on collocation at the [NLTK homepage](http://www.nltk.org/howto/collocations.html)."
   ]
  },
  {
   "cell_type": "markdown",
   "metadata": {},
   "source": [
    "## Clustering/n-grams"
   ]
  },
  {
   "cell_type": "markdown",
   "metadata": {},
   "source": [
    "Clustering is the task of finding words that are commonly **immediately** adjacent (as opposed to collocates, which may just be nearby). This is also often called n-grams: bigrams are two tokens that appear together, trigrams are three, etc.\n",
    "\n",
    "Clusters/n-grams have a spooky ability to tell us what a text is about.\n",
    "\n",
    "We can use *Spindle* for bigram searching as well:"
   ]
  },
  {
   "cell_type": "code",
   "execution_count": 122,
   "metadata": {
    "collapsed": false
   },
   "outputs": [
    {
     "data": {
      "text/plain": [
       "([],\n",
       " [(('middle', 'east'), 34),\n",
       "  (('terrorist', 'attacks'), 25),\n",
       "  (('shale', 'oil'), 10),\n",
       "  (('terrorist', 'groups'), 9),\n",
       "  (('muslim', 'terrorist'), 6),\n",
       "  (('wholesale', 'genocide'), 5),\n",
       "  (('terror', 'attacks'), 5),\n",
       "  (('committing', 'genocide'), 5),\n",
       "  (('air', 'strikes'), 5),\n",
       "  (('terrorist', 'attack'), 4),\n",
       "  (('islamic', 'terrorism'), 4),\n",
       "  (('fighter', 'jets'), 4),\n",
       "  (('australian', 'government'), 4),\n",
       "  (('syrian', 'civil'), 3),\n",
       "  (('political', 'leaders'), 3)])"
      ]
     },
     "execution_count": 122,
     "metadata": {},
     "output_type": "execute_result"
    }
   ],
   "source": [
    "# an argument here to stop keywords from being produced.\n",
    "keywords_and_ngrams(raw.encode(\"UTF-8\"), nKeywords=0)"
   ]
  },
  {
   "cell_type": "markdown",
   "metadata": {},
   "source": [
    "There's also a method for n-gram production in NLTK. We can use this to understand how n-gramming works.\n",
    "\n",
    "Below, we get lists of any ten adjacent tokens:"
   ]
  },
  {
   "cell_type": "code",
   "execution_count": 124,
   "metadata": {
    "collapsed": false
   },
   "outputs": [
    {
     "name": "stdout",
     "output_type": "stream",
     "text": [
      "('give', 'a', 'man', 'a', 'fish', 'and', 'you', 'feed', 'him', 'for')\n",
      "('a', 'man', 'a', 'fish', 'and', 'you', 'feed', 'him', 'for', 'a')\n",
      "('man', 'a', 'fish', 'and', 'you', 'feed', 'him', 'for', 'a', 'day;')\n",
      "('a', 'fish', 'and', 'you', 'feed', 'him', 'for', 'a', 'day;', 'teach')\n",
      "('fish', 'and', 'you', 'feed', 'him', 'for', 'a', 'day;', 'teach', 'a')\n",
      "('and', 'you', 'feed', 'him', 'for', 'a', 'day;', 'teach', 'a', 'man')\n",
      "('you', 'feed', 'him', 'for', 'a', 'day;', 'teach', 'a', 'man', 'to')\n",
      "('feed', 'him', 'for', 'a', 'day;', 'teach', 'a', 'man', 'to', 'fish')\n",
      "('him', 'for', 'a', 'day;', 'teach', 'a', 'man', 'to', 'fish', 'and')\n",
      "('for', 'a', 'day;', 'teach', 'a', 'man', 'to', 'fish', 'and', 'you')\n",
      "('a', 'day;', 'teach', 'a', 'man', 'to', 'fish', 'and', 'you', 'feed')\n",
      "('day;', 'teach', 'a', 'man', 'to', 'fish', 'and', 'you', 'feed', 'him')\n",
      "('teach', 'a', 'man', 'to', 'fish', 'and', 'you', 'feed', 'him', 'for')\n",
      "('a', 'man', 'to', 'fish', 'and', 'you', 'feed', 'him', 'for', 'a')\n",
      "('man', 'to', 'fish', 'and', 'you', 'feed', 'him', 'for', 'a', 'lifetime')\n"
     ]
    }
   ],
   "source": [
    "from nltk.util import ngrams\n",
    "# define a sentence\n",
    "sentence = 'give a man a fish and you feed him for a day; teach a man to fish and you feed him for a lifetime'\n",
    "# length of ngram\n",
    "n = 10\n",
    "# use builtin tokeniser (but we could use a different one)\n",
    "tengrams = ngrams(sentence.split(), n)\n",
    "for gram in tengrams:\n",
    "  print gram"
   ]
  },
  {
   "cell_type": "markdown",
   "metadata": {},
   "source": [
    "So, there are plenty of tengrams in there! What we're interested in, however, is duplicated n-grams:"
   ]
  },
  {
   "cell_type": "code",
   "execution_count": 125,
   "metadata": {
    "collapsed": false
   },
   "outputs": [],
   "source": [
    "# arguments: a text, ngram size, and minimum occurrences\n",
    "def ngrammer(text, gramsize, threshold = 4):\n",
    "    \"\"\"Get any repeating ngram containing gramsize tokens\"\"\"\n",
    "    # we need to import this in order to find the duplicates:\n",
    "    from collections import defaultdict\n",
    "    from nltk.util import ngrams\n",
    "    # a subdefinition to get duplicate lists in a list\n",
    "    def list_duplicates(seq):\n",
    "        tally = defaultdict(list)\n",
    "        for i,item in enumerate(seq):\n",
    "            tally[item].append(i)\n",
    "            # return to us the index and the ngram itself:\n",
    "        return ((len(locs),key) for key,locs in tally.items() \n",
    "               if len(locs) > threshold)\n",
    "    # get ngrams of gramsize    \n",
    "    raw_grams = ngrams(text.split(), gramsize)\n",
    "    # use our duplication detector to find duplicates\n",
    "    dupes = list_duplicates(raw_grams)\n",
    "    # return them, sorted by most frequent\n",
    "    return sorted(dupes, reverse = True)"
   ]
  },
  {
   "cell_type": "markdown",
   "metadata": {},
   "source": [
    "Now that it's defined, let's run it, looking for trigrams"
   ]
  },
  {
   "cell_type": "code",
   "execution_count": 126,
   "metadata": {
    "collapsed": false
   },
   "outputs": [
    {
     "data": {
      "text/plain": [
       "[(31, (u'the', u'middle', u'east')),\n",
       " (24, (u'in', u'the', u'middle')),\n",
       " (18, (u'carried', u'out', u'by')),\n",
       " (17, (u'the', u'majority', u'of')),\n",
       " (15, (u'of', u'terrorist', u'attacks')),\n",
       " (13, (u'out', u'by', u'non-muslims.')),\n",
       " (13, (u'majority', u'of', u'terrorist')),\n",
       " (12, (u'around', u'the', u'world')),\n",
       " (10, (u'we', u'need', u'to')),\n",
       " (10, (u'the', u'middle', u'east.')),\n",
       " (10, (u'terrorist', u'attacks', u'around')),\n",
       " (10, (u'have', u'been', u'carried')),\n",
       " (10, (u'been', u'carried', u'out')),\n",
       " (10, (u'attacks', u'around', u'the')),\n",
       " (9, (u'the', u'world', u'since')),\n",
       " (8, (u'to', u'do', u'with')),\n",
       " (8, (u'the', u'rest', u'of')),\n",
       " (8, (u'out', u'of', u'the')),\n",
       " (7, (u'world', u'since', u'2001')),\n",
       " (7, (u'to', u'deal', u'with')),\n",
       " (7, (u'this', u'is', u'a')),\n",
       " (7, (u'the', u'spirit', u'of')),\n",
       " (7, (u'since', u'2001', u'have')),\n",
       " (7, (u'of', u'the', u'world')),\n",
       " (7, (u'do', u'you', u'think')),\n",
       " (7, (u'2001', u'have', u'been')),\n",
       " (6, (u'you', u'are', u'a')),\n",
       " (6, (u'there', u'is', u'no')),\n",
       " (6, (u'that', u'there', u'is')),\n",
       " (6, (u'rest', u'of', u'the')),\n",
       " (6, (u'nothing', u'to', u'do')),\n",
       " (6, (u'middle', u'east', u'is')),\n",
       " (6, (u'in', u'iraq', u'and')),\n",
       " (6, (u'how', u'do', u'you')),\n",
       " (6, (u'boots', u'on', u'the')),\n",
       " (5, (u'you', u'want', u'to')),\n",
       " (5, (u'to', u'stop', u'the')),\n",
       " (5, (u'to', u'be', u'a')),\n",
       " (5, (u'this', u'is', u'not')),\n",
       " (5, (u'they', u'are', u'not')),\n",
       " (5, (u'there', u'is', u'a')),\n",
       " (5, (u'the', u'days', u'of')),\n",
       " (5, (u'terrorist', u'attacks', u'are')),\n",
       " (5, (u'syria', u'and', u'iraq')),\n",
       " (5, (u'spirit', u'of', u'anzac')),\n",
       " (5, (u'on', u'the', u'ground')),\n",
       " (5, (u'of', u'the', u'middle')),\n",
       " (5, (u'need', u'to', u'be')),\n",
       " (5, (u'most', u'terrorist', u'attacks')),\n",
       " (5, (u'middle', u'east', u'and')),\n",
       " (5, (u'is', u'not', u'a')),\n",
       " (5, (u'in', u'syria', u'and')),\n",
       " (5, (u'i', u\"don't\", u'think')),\n",
       " (5, (u'as', u'well', u'as')),\n",
       " (5, (u'are', u'carried', u'out'))]"
      ]
     },
     "execution_count": 126,
     "metadata": {},
     "output_type": "execute_result"
    }
   ],
   "source": [
    "ngrammer(raw, 3)"
   ]
  },
  {
   "cell_type": "markdown",
   "metadata": {},
   "source": [
    "Too many results? Let's set a higher threshold than the default."
   ]
  },
  {
   "cell_type": "code",
   "execution_count": 127,
   "metadata": {
    "collapsed": false
   },
   "outputs": [
    {
     "data": {
      "text/plain": [
       "[(31, (u'the', u'middle', u'east')),\n",
       " (24, (u'in', u'the', u'middle')),\n",
       " (18, (u'carried', u'out', u'by')),\n",
       " (17, (u'the', u'majority', u'of')),\n",
       " (15, (u'of', u'terrorist', u'attacks')),\n",
       " (13, (u'out', u'by', u'non-muslims.')),\n",
       " (13, (u'majority', u'of', u'terrorist')),\n",
       " (12, (u'around', u'the', u'world'))]"
      ]
     },
     "execution_count": 127,
     "metadata": {},
     "output_type": "execute_result"
    }
   ],
   "source": [
    "ngrammer(raw, 3, threshold = 10)"
   ]
  },
  {
   "cell_type": "markdown",
   "metadata": {},
   "source": [
    "## Concordancing with regular expressions"
   ]
  },
  {
   "cell_type": "markdown",
   "metadata": {},
   "source": [
    "We've already done a bit of concordancing. In discourse-analytic research, concordancing is often used to perform thematic categorisation."
   ]
  },
  {
   "cell_type": "code",
   "execution_count": 128,
   "metadata": {
    "collapsed": false
   },
   "outputs": [
    {
     "name": "stdout",
     "output_type": "stream",
     "text": [
      "Displaying 25 of 60 matches:\n",
      "urselves . i am not saying that all muslims are like this . however , i am sayi\n",
      " a result of long term migration of muslims into our country we now have a burg\n",
      " shut the gate as we now have young muslims , embracing isis ideals and as far \n",
      " of over-sensationalized crap . the muslims are actually less trouble than are \n",
      "aying the statistics will show that muslims are more likely to be criminal than\n",
      "ty . what about crimes committed by muslims whose grandparents emigrated here ,\n",
      ", would be collateral damage as the muslims promote their promise to 'have the \n",
      "anda ) greens -win , i am comparing muslims to storm troopers . do you have any\n",
      "ers . do you have any idea what the muslims are up to in iraq ? isis are commit\n",
      "uld be 'aussie ' , not muslim . all muslims ? you are on a hate speech , hiding\n",
      "iding behind a keyboard , about all muslims and that makes you a fanatical terr\n",
      "nt history ) . the sunni and shiite muslims have been killing each other for 12\n",
      "ehalf of islam , are perpetrated by muslims . well it 's your link , not mine .\n",
      "lims . that 's not to say that some muslims do n't indulge in terrorism : they \n",
      "lam . it was only 20 years ago that muslims of a certain region were asking aus\n",
      " public would have laughed it off . muslims have a tendency to take their relig\n",
      " the same level of criminality that muslims do , then rape , murder , and a hea\n",
      " for the bodycount , it appears the muslims are winning that one . how many dea\n",
      "he azzizzis had lived in peace with muslims in the middle east for thousands of\n",
      " he stated that through that period muslims had not try to convert them by forc\n",
      "he mainstream of 500,000 australian muslims do not support this ideology . he a\n",
      "heir soil , they will turn on other muslims ... their point is to kill and noth\n",
      "d through . i dont want to hate all muslims ... .but its not easy when they see\n",
      "in the world . and , just to note , muslims who do n't condemn muslim terrorist\n",
      "erned about their heads : the crazy muslims would n't think twice about choppin\n"
     ]
    }
   ],
   "source": [
    "text = nltk.Text(tokens)  # formats our tokens for concordancing\n",
    "text.concordance(\"muslims\")"
   ]
  },
  {
   "cell_type": "markdown",
   "metadata": {},
   "source": [
    "We could even our stemmed corpus here:\n",
    "text = nltk.Text(stemmed)\n",
    "text.concordance(\"muslims\")"
   ]
  },
  {
   "cell_type": "markdown",
   "metadata": {},
   "source": [
    "You get no matches in the latter case, because all instances of *muslims* were stemmed to *muslim*.\n",
    "\n",
    "A problem with the NLTK concordancer is that it only works with individual tokens. What if we want to find words that end with **ment*, or words beginning with *poli**?\n",
    "\n",
    "We already searched text with Regular Expressions. It's not much more work to build regex functionality into our own concordancer.\n",
    "\n",
    "From running the code below, you can see that bracketting sections of our regex causes results to split into lists:"
   ]
  },
  {
   "cell_type": "code",
   "execution_count": 129,
   "metadata": {
    "collapsed": false
   },
   "outputs": [
    {
     "data": {
      "text/plain": [
       "[(u'as they woke to another day\\x92s work the people of sydney [and melbourne] learned of a joint operation between their states\\x92 police forces and the ',\n",
       "  u'australia',\n",
       "  u'n federal police, against an imminent terrorist attack in their cities.'),\n",
       " (u'four men - all ',\n",
       "  u'australia',\n",
       "  u\"n citizens - were arrested this morning as federal and state police, armed with search warrants, swooped on members of the suspected terror cell this morning in the second-largest counter-terrorism operation in the nation's history\\x85. about 400 police raided homes in the northern melbourne suburbs of glenroy, meadow heights, roxburgh park, broadmeadows, westmeadows, preston and epping. they also raided homes at carlton in inner melbourne and colac in southwestern victoria. (source)\"),\n",
       " (u\"authorities believe the group is at an advanced stage of preparing to storm an australian army base, using automatic weapons, as punishment for australia's military involvement in muslim countries. it is understood the men plan to kill as many soldiers as possible before they are themselves killed. members of the group have been observed carrying out surveillance of holsworthy barracks in western sydney and other suspicious activity around defence bases in victoria. electronic surveillance on the suspects is believed to have picked up discussions about ways to obtain weapons to carry out what would be the worst terror attack on \",\n",
       "  u'australia',\n",
       "  u'n soil.'),\n",
       " (u'what a load of over-sensationalized crap. the muslims are actually less trouble than are the ',\n",
       "  u'aussie',\n",
       "  u's. and if we had never interfered in their countries they would be no trouble to us at all.'),\n",
       " (u\"so you're saying the statistics will show that muslims are more likely to be criminal than \",\n",
       "  u'aussie',\n",
       "  u\"s? and we've been interfering in the mid east for over one hundred years now, time for us to 'pack' off out of there, don't you think!\")]"
      ]
     },
     "execution_count": 129,
     "metadata": {},
     "output_type": "execute_result"
    }
   ],
   "source": [
    "# define a regex for different aussie words\n",
    "aussie = r'(aussie|australia)'\n",
    "searchpattern = re.compile(r\"(.*)\" + aussie + r\"(.*)\")\n",
    "search = re.findall(searchpattern, raw)\n",
    "search[:5]"
   ]
  },
  {
   "cell_type": "markdown",
   "metadata": {},
   "source": [
    "Well, it's ugly, but it works. We can see five bracketted results, each containing three strings. The first and third strings are the left-context and right-context. The second of the three strings is the search term.\n",
    "\n",
    "These three sections are, with a bit of tweaking, the same as the output given by a concordancer.\n",
    "\n",
    "Let's go ahead and turn our regex seacher into a concordancer:"
   ]
  },
  {
   "cell_type": "code",
   "execution_count": 130,
   "metadata": {
    "collapsed": false
   },
   "outputs": [],
   "source": [
    "def concordancer(text, regex):\n",
    "    \"\"\"Concordance using regular expressions\"\"\"\n",
    "    import re\n",
    "    # limit context to 30 characters max\n",
    "    searchpattern = re.compile(r\"(.{,30})(\\b\" + regex + r\"\\b)(.{,30})\")\n",
    "    # find all instances of our regex\n",
    "    search = re.findall(searchpattern, raw)\n",
    "    for result in search:\n",
    "        #join each result with a tab, and print\n",
    "        print(\"\\t\".join(result).expandtabs(20))\n",
    "        # expand tabs helps align results"
   ]
  },
  {
   "cell_type": "code",
   "execution_count": 131,
   "metadata": {
    "collapsed": false
   },
   "outputs": [
    {
     "name": "stdout",
     "output_type": "stream",
     "text": [
      "states police forces and the           australian           federal police, against an im\n",
      "four men - all      australian           citizens - were arrested this\n",
      "tage of preparing to storm an           australian           army base, using automatic we\n",
      "apons, as punishment for                australia           's military involvement in mus\n",
      "be the worst terror attack on           australian           soil.\n",
      "lly less trouble than are the           aussies             . and if we had never interfer\n",
      "re likely to be criminal than           aussies             ? and we've been interfering i\n",
      "....muslim is a religion, and           australian           is a nationality. what about \n",
      "ou classify them as muslim or           aussie              ???\n",
      "may have been slaughtered by '          aussies             ', i don't blame christianity \n",
      "se? they would have had their           aussieness           brow-beaten into them.\n",
      "think there would be too many           australians          who would like to have a jiha\n",
      "h is a circular argument. any           australian           born muslim who commits a cri\n",
      "der your definition would be '          aussie              ', not muslim.\n",
      "so isis is not american/                australian          /musliim...\n",
      " a certain region were asking           australian           government to send troops to \n",
      "rimes against non-muslims. if           aussies              showed the same level of crim\n",
      "have the capacity to re-enter           australia           , either as a citizen or as a \n",
      ".and judging by the number of           australian           and british [madmen] that hav\n",
      "hat the mainstream of 500,000           australian           muslims do not support this i\n",
      "rs of the muslim community in           australia            were working hard to stop thi\n",
      "tony abbott has stated that             australia           's terrorist threat level will\n",
      ". by restraining them here in           australia            he is begging for a terror at\n",
      " tipping some rough times for           australia            right here.\n",
      "agenda better than to have an           australian           populace panicked and looking\n",
      "e oil deposit that would make           australia            an oil exporter as well.  as \n",
      "hnics have never been good at           australian           history.\n",
      "reat man. you'd go for a good           aussie               man like him. in pakistan the\n",
      "many                australians          dont even want to fork out f\n",
      "k of making you ashamed to be           australian          ...cruel words from a cruel he\n",
      "rives on our doorstep you and           aussie               will be well and truly under \n",
      "u think that 5% of muslims in           australia            are extremists/\"potential ter\n",
      "s that are nothing to do with           australia           .\n",
      " gives the go ahead for young           australians          to head into the middle east \n",
      "and spill their blood,                  australia            will not be responsible for t\n",
      "n all have nothing to do with           australia           's foreign policy. most of the\n",
      "o that has nothing to do with           australia            either.\n",
      "so                  australia            has no foreign policy now. au\n",
      "gees have been rocking up and           australia            hasn't been involved in a war\n",
      "ir.they have shown loyalty to           aussies              and we should repay the court\n",
      "question' to abbott about how           australia            will react to the ongoing isi\n",
      " reprisal actions against the           australian           government.\n",
      "ice to stem the flow of young           australians          joining the islamist rebellio\n",
      ", will plug a security gap at           australia           s borders that is being explo\n",
      "n - which could apply to both           australian           and foreign passports - will \n",
      "who are planning an attack in           australia            because we have cancelled the\n",
      "the vast bulk of    australians          travelling to the syria and i\n",
      "ust 17 years old when he left           australia           .\n",
      "trategy to stop the exodus of           australians          to the middle east conflict z\n",
      " that jihadists who return to           australia            could launch terrorist attack\n",
      "the dragnet and the number of           australians          fighting in the middle east i\n",
      "s growing. some 150                     australians          are believed to be in syria a\n",
      "anges, asio, and possibly the           australian           federal police, would have th\n",
      "ing whether it can revoke the           australian           passports of dual nationals f\n",
      "roblematic to implement given           australia           s obligations under un treati\n",
      "e born here, with native born           australian           citizenship.  where you going\n",
      "referring to how the u.s. and           australia            and allies got involved in th\n",
      " let those bastards back into           australia            i don't know. perhaps the law\n",
      "prevent them from re-entering           australia           .\n",
      " is saying but it's what most           australians          know. that's what justifies i\n",
      "the vast majority of                    australians          do not start wars. they eithe\n",
      "he invasion of iraq and nam -           australians          ended up condemning them. his\n",
      "a \"real\" man . a \"real\"                 australian           goes down that backyard, torc\n",
      "ow isis is a threat to us and           australian           domestic security, he didn't \n",
      "'m going against the grain of           australia           's entire military history (ex\n",
      "rinciple. i'm also pragmatic.           australia            has a role in global policing\n",
      "you've nagged the yanks and             australians          into this, and now you're wor\n",
      " iraq. abbott has pledged 600           australian           forces to the call to arms. m\n",
      "lar.  constitutionally, as an           australian           citizen, they have a natural \n",
      "of an offence competent under           australian           law.\n",
      "                    aussie              , i am on board with what you \n",
      "le rationale to isis being an           australian           regional issue is that return\n",
      "ent keeps arguing, subject to           australian           laws for supporting terrorism\n",
      " in the wool diplomat who was           australia           's rep at the un at one time i\n",
      "inst isis is a proscribed (in           australia           ) terrorist group.\n",
      " there are 500,000 moslems in           australia           . let's just say purely as spe\n",
      "moslems out there support the           australian           christian majority or isil wh\n",
      "idence of grinning loons from           australia            holding up heads still deny t\n",
      "n the muslim community within           australia           .\n",
      " on the security council, and           australia            has a policy of supporting un\n",
      "d how do you expect all those           australians          to know which groups are list\n",
      " 10%? 20%? 99.9%?  - but many           australians          sending funds or fighting in \n",
      "be (thats what the cia and us/          aust                 military are doing right now \n",
      "igion to do what you and many           australian          's and defiantly many american\n",
      ".  lets see how many hot head           australians          on this forum wouldn't be cho\n",
      "sians tried the same stunt on           australia           .\n",
      "ld go into iraq again because           australians          have got themselves into a ti\n",
      "you were on a train with 1000           aussies              on it and one muslim but that\n",
      "ation from those countries to           australia            and to other wester countries\n",
      "f those arriving by boat into           australian           territory are economic migran\n",
      "g on our shores uninvited [by           australia           ] are moslems.\n",
      "all....moslems do not come to           australia            to become australians.\n",
      "moslems come to     australia            to be moslems, 1st, 2nd, and \n",
      "rking tirelessly to undermine           australian           society and australian instit\n",
      "do you know that, yadda?  the           australian           government has not been proce\n",
      "and i demand that the                   australian           government provide me withasy\n",
      "ts coming from moslems in our           australian           community......because i know\n",
      "and i demand that the                   australian           government provide me with as\n",
      "walking on the streets of our           australian           community.\n",
      "tement...every good moslem in           australia            [and indeed, every good mosle\n",
      "ope. for some reason he hates           aussies              while still living here. why \n"
     ]
    }
   ],
   "source": [
    "concordancer(raw, r'aus.*?')"
   ]
  },
  {
   "cell_type": "markdown",
   "metadata": {},
   "source": [
    "Great! With six lines of code, we've officially created a function that improves on the one provided by NLTK! And think how easy it would be to add more functionality: an argument dictating the size of the window (currently 30 characters), or printing line numbers beside matches, would be pretty easy to add, as well.\n",
    "\n",
    "> Adding too much functionality is known as *feature creep*. It's often best to keep your functions simple and more varied. An old adage in programming is to *make each program do one thing well*."
   ]
  },
  {
   "cell_type": "markdown",
   "metadata": {},
   "source": [
    "In the cells below, try concordancing a few things. Also try creating variables with concordance results, and then manipulate the lists. If you encounter problems with the way the concordancer runs, alter the function and redefine it. If you want, try implementing the window size variable!\n",
    "\n",
    "> **Tip:** If you wanted to get really creative, you could try stemming concordance or n-gram results!"
   ]
  },
  {
   "cell_type": "code",
   "execution_count": null,
   "metadata": {
    "collapsed": false
   },
   "outputs": [],
   "source": [
    "#"
   ]
  },
  {
   "cell_type": "code",
   "execution_count": null,
   "metadata": {
    "collapsed": false
   },
   "outputs": [],
   "source": [
    "#"
   ]
  },
  {
   "cell_type": "code",
   "execution_count": null,
   "metadata": {
    "collapsed": false
   },
   "outputs": [],
   "source": [
    "#"
   ]
  },
  {
   "cell_type": "code",
   "execution_count": null,
   "metadata": {
    "collapsed": false
   },
   "outputs": [],
   "source": [
    "#"
   ]
  },
  {
   "cell_type": "code",
   "execution_count": null,
   "metadata": {
    "collapsed": false
   },
   "outputs": [],
   "source": [
    "#"
   ]
  },
  {
   "cell_type": "markdown",
   "metadata": {},
   "source": [
    "## Summary"
   ]
  },
  {
   "cell_type": "markdown",
   "metadata": {},
   "source": [
    "That's the end of session three! Great work.\n",
    "\n",
    "So, some of these tasks are a little dry---seeing results as lists of words and scores isn't always a lot of fun. But ultimately, they're pretty important things to know if you want to avoid the 'black box approach', where you simply dump words into a machine and analyse what the machine spits out.\n",
    "\n",
    "Remember that almost every task in corpus linguistics/distance reading depends on how we segment our data into sentences, clauses, words, etc.\n",
    "\n",
    "Building a stemmer from scratch taught us how to use regular expressions, and their power. But, we also saw that they weren't perfect for the task. In later lessons, we'll use more advanced methods to normalise our data. \n",
    "\n",
    "*See you tomorrow!*"
   ]
  },
  {
   "cell_type": "markdown",
   "metadata": {},
   "source": [
    "# Bibliography"
   ]
  },
  {
   "cell_type": "markdown",
   "metadata": {},
   "source": [
    "<a id=\"ref:baker\"></a>\n",
    "Baker, P., Gabrielatos, C., Khosravinik, M., Krzyzanowski, M., McEnery, T., & Wodak, R. (2008). A useful methodological synergy? Combining critical discourse analysis and corpus linguistics to examine discourses of refugees and asylum seekers in the UK press. Discourse & Society, 19(3), 273-306.\n",
    "\n",
    "<a id=\"firth\"></a>\n",
    "Firth, J. (1957).  *A Synopsis of Linguistic Theory 1930-1955*. In: Studies in Linguistic Analysis, Philological Society, Oxford; reprinted in Palmer, F. (ed.) 1968 Selected Papers of J. R. Firth, Longman, Harlow.\n",
    "\n",
    "<a id=\"ref:hymes\"></a>\n",
    "Hymes, D. (1972). On communicative competence. In J. Pride & J. Holmes (Eds.), Sociolinguistics (pp. 269-293). Harmondsworth: Penguin Books. Retrieved from [http://humanidades.uprrp.edu/smjeg/reserva/Estudios%20Hispanicos/espa3246/Prof%20Sunny%20Cabrera/ESPA%203246%20-%20On%20Communicative%20Competence%20p%2053-73.pdf](http://humanidades.uprrp.edu/smjeg/reserva/Estudios%20Hispanicos/espa3246/Prof%20Sunny%20Cabrera/ESPA%203246%20-%20On%20Communicative%20Competence%20p%2053-73.pdf)\n",
    "\n",
    "<a id=\"ref:widdowson\"></a>\n",
    "Widdowson, H. G. (2000). On the limitations of linguistics applied. Applied Linguistics, 21(1), 3. Available at [http://applij.oxfordjournals.org/content/21/1/3.short](http://applij.oxfordjournals.org/content/21/1/3.short)."
   ]
  },
  {
   "cell_type": "markdown",
   "metadata": {},
   "source": [
    "### Workspace"
   ]
  },
  {
   "cell_type": "markdown",
   "metadata": {},
   "source": [
    "Here are a few blank cells, in case you need them for anything:"
   ]
  },
  {
   "cell_type": "code",
   "execution_count": null,
   "metadata": {
    "collapsed": false
   },
   "outputs": [],
   "source": [
    "# "
   ]
  },
  {
   "cell_type": "code",
   "execution_count": null,
   "metadata": {
    "collapsed": false
   },
   "outputs": [],
   "source": [
    "#"
   ]
  },
  {
   "cell_type": "code",
   "execution_count": null,
   "metadata": {
    "collapsed": false
   },
   "outputs": [],
   "source": [
    "#"
   ]
  },
  {
   "cell_type": "code",
   "execution_count": null,
   "metadata": {
    "collapsed": false
   },
   "outputs": [],
   "source": [
    "#"
   ]
  },
  {
   "cell_type": "code",
   "execution_count": null,
   "metadata": {
    "collapsed": false
   },
   "outputs": [],
   "source": [
    "#"
   ]
  },
  {
   "cell_type": "code",
   "execution_count": null,
   "metadata": {
    "collapsed": false
   },
   "outputs": [],
   "source": [
    "#"
   ]
  },
  {
   "cell_type": "code",
   "execution_count": null,
   "metadata": {
    "collapsed": false
   },
   "outputs": [],
   "source": [
    "#"
   ]
  },
  {
   "cell_type": "code",
   "execution_count": null,
   "metadata": {
    "collapsed": false
   },
   "outputs": [],
   "source": [
    "#"
   ]
  },
  {
   "cell_type": "code",
   "execution_count": null,
   "metadata": {
    "collapsed": false
   },
   "outputs": [],
   "source": [
    "#"
   ]
  },
  {
   "cell_type": "code",
   "execution_count": null,
   "metadata": {
    "collapsed": false
   },
   "outputs": [],
   "source": [
    "#"
   ]
  },
  {
   "cell_type": "code",
   "execution_count": null,
   "metadata": {
    "collapsed": false
   },
   "outputs": [],
   "source": [
    "# "
   ]
  }
 ],
 "metadata": {
  "kernelspec": {
   "display_name": "Python 2",
   "language": "python",
   "name": "python2"
  },
  "language_info": {
   "codemirror_mode": {
    "name": "ipython",
    "version": 2
   },
   "file_extension": ".py",
   "mimetype": "text/x-python",
   "name": "python",
   "nbconvert_exporter": "python",
   "pygments_lexer": "ipython2",
   "version": "2.7.1"
  }
 },
 "nbformat": 4,
 "nbformat_minor": 0
}
